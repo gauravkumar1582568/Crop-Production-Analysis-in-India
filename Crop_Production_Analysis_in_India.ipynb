{
  "cells": [
    {
      "cell_type": "code",
      "execution_count": 54,
      "metadata": {
        "id": "6GkWD4yG3bzK"
      },
      "outputs": [],
      "source": [
        "import seaborn as sns\n",
        "import matplotlib.pyplot as plt\n",
        "import pandas as pd\n",
        "import numpy as np\n",
        "%matplotlib inline"
      ]
    },
    {
      "cell_type": "code",
      "execution_count": 55,
      "metadata": {
        "id": "giQ3WKsJ3dKd"
      },
      "outputs": [],
      "source": [
        "df=pd.read_csv(\"/content/Crop Production data.csv\")"
      ]
    },
    {
      "cell_type": "code",
      "execution_count": 56,
      "metadata": {
        "colab": {
          "base_uri": "https://localhost:8080/",
          "height": 206
        },
        "id": "CwdoDYLu3qIm",
        "outputId": "a0d0e72c-10fe-463e-c3ae-dbad74e32149"
      },
      "outputs": [
        {
          "output_type": "execute_result",
          "data": {
            "text/plain": [
              "                    State_Name District_Name  Crop_Year       Season  \\\n",
              "0  Andaman and Nicobar Islands      NICOBARS       2000  Kharif        \n",
              "1  Andaman and Nicobar Islands      NICOBARS       2000  Kharif        \n",
              "2  Andaman and Nicobar Islands      NICOBARS       2000  Kharif        \n",
              "3  Andaman and Nicobar Islands      NICOBARS       2000  Whole Year    \n",
              "4  Andaman and Nicobar Islands      NICOBARS       2000  Whole Year    \n",
              "\n",
              "                  Crop    Area  Production  \n",
              "0             Arecanut  1254.0      2000.0  \n",
              "1  Other Kharif pulses     2.0         1.0  \n",
              "2                 Rice   102.0       321.0  \n",
              "3               Banana   176.0       641.0  \n",
              "4            Cashewnut   720.0       165.0  "
            ],
            "text/html": [
              "\n",
              "  <div id=\"df-3faf163e-3270-474e-8185-525a4bccc3ab\">\n",
              "    <div class=\"colab-df-container\">\n",
              "      <div>\n",
              "<style scoped>\n",
              "    .dataframe tbody tr th:only-of-type {\n",
              "        vertical-align: middle;\n",
              "    }\n",
              "\n",
              "    .dataframe tbody tr th {\n",
              "        vertical-align: top;\n",
              "    }\n",
              "\n",
              "    .dataframe thead th {\n",
              "        text-align: right;\n",
              "    }\n",
              "</style>\n",
              "<table border=\"1\" class=\"dataframe\">\n",
              "  <thead>\n",
              "    <tr style=\"text-align: right;\">\n",
              "      <th></th>\n",
              "      <th>State_Name</th>\n",
              "      <th>District_Name</th>\n",
              "      <th>Crop_Year</th>\n",
              "      <th>Season</th>\n",
              "      <th>Crop</th>\n",
              "      <th>Area</th>\n",
              "      <th>Production</th>\n",
              "    </tr>\n",
              "  </thead>\n",
              "  <tbody>\n",
              "    <tr>\n",
              "      <th>0</th>\n",
              "      <td>Andaman and Nicobar Islands</td>\n",
              "      <td>NICOBARS</td>\n",
              "      <td>2000</td>\n",
              "      <td>Kharif</td>\n",
              "      <td>Arecanut</td>\n",
              "      <td>1254.0</td>\n",
              "      <td>2000.0</td>\n",
              "    </tr>\n",
              "    <tr>\n",
              "      <th>1</th>\n",
              "      <td>Andaman and Nicobar Islands</td>\n",
              "      <td>NICOBARS</td>\n",
              "      <td>2000</td>\n",
              "      <td>Kharif</td>\n",
              "      <td>Other Kharif pulses</td>\n",
              "      <td>2.0</td>\n",
              "      <td>1.0</td>\n",
              "    </tr>\n",
              "    <tr>\n",
              "      <th>2</th>\n",
              "      <td>Andaman and Nicobar Islands</td>\n",
              "      <td>NICOBARS</td>\n",
              "      <td>2000</td>\n",
              "      <td>Kharif</td>\n",
              "      <td>Rice</td>\n",
              "      <td>102.0</td>\n",
              "      <td>321.0</td>\n",
              "    </tr>\n",
              "    <tr>\n",
              "      <th>3</th>\n",
              "      <td>Andaman and Nicobar Islands</td>\n",
              "      <td>NICOBARS</td>\n",
              "      <td>2000</td>\n",
              "      <td>Whole Year</td>\n",
              "      <td>Banana</td>\n",
              "      <td>176.0</td>\n",
              "      <td>641.0</td>\n",
              "    </tr>\n",
              "    <tr>\n",
              "      <th>4</th>\n",
              "      <td>Andaman and Nicobar Islands</td>\n",
              "      <td>NICOBARS</td>\n",
              "      <td>2000</td>\n",
              "      <td>Whole Year</td>\n",
              "      <td>Cashewnut</td>\n",
              "      <td>720.0</td>\n",
              "      <td>165.0</td>\n",
              "    </tr>\n",
              "  </tbody>\n",
              "</table>\n",
              "</div>\n",
              "      <button class=\"colab-df-convert\" onclick=\"convertToInteractive('df-3faf163e-3270-474e-8185-525a4bccc3ab')\"\n",
              "              title=\"Convert this dataframe to an interactive table.\"\n",
              "              style=\"display:none;\">\n",
              "        \n",
              "  <svg xmlns=\"http://www.w3.org/2000/svg\" height=\"24px\"viewBox=\"0 0 24 24\"\n",
              "       width=\"24px\">\n",
              "    <path d=\"M0 0h24v24H0V0z\" fill=\"none\"/>\n",
              "    <path d=\"M18.56 5.44l.94 2.06.94-2.06 2.06-.94-2.06-.94-.94-2.06-.94 2.06-2.06.94zm-11 1L8.5 8.5l.94-2.06 2.06-.94-2.06-.94L8.5 2.5l-.94 2.06-2.06.94zm10 10l.94 2.06.94-2.06 2.06-.94-2.06-.94-.94-2.06-.94 2.06-2.06.94z\"/><path d=\"M17.41 7.96l-1.37-1.37c-.4-.4-.92-.59-1.43-.59-.52 0-1.04.2-1.43.59L10.3 9.45l-7.72 7.72c-.78.78-.78 2.05 0 2.83L4 21.41c.39.39.9.59 1.41.59.51 0 1.02-.2 1.41-.59l7.78-7.78 2.81-2.81c.8-.78.8-2.07 0-2.86zM5.41 20L4 18.59l7.72-7.72 1.47 1.35L5.41 20z\"/>\n",
              "  </svg>\n",
              "      </button>\n",
              "      \n",
              "  <style>\n",
              "    .colab-df-container {\n",
              "      display:flex;\n",
              "      flex-wrap:wrap;\n",
              "      gap: 12px;\n",
              "    }\n",
              "\n",
              "    .colab-df-convert {\n",
              "      background-color: #E8F0FE;\n",
              "      border: none;\n",
              "      border-radius: 50%;\n",
              "      cursor: pointer;\n",
              "      display: none;\n",
              "      fill: #1967D2;\n",
              "      height: 32px;\n",
              "      padding: 0 0 0 0;\n",
              "      width: 32px;\n",
              "    }\n",
              "\n",
              "    .colab-df-convert:hover {\n",
              "      background-color: #E2EBFA;\n",
              "      box-shadow: 0px 1px 2px rgba(60, 64, 67, 0.3), 0px 1px 3px 1px rgba(60, 64, 67, 0.15);\n",
              "      fill: #174EA6;\n",
              "    }\n",
              "\n",
              "    [theme=dark] .colab-df-convert {\n",
              "      background-color: #3B4455;\n",
              "      fill: #D2E3FC;\n",
              "    }\n",
              "\n",
              "    [theme=dark] .colab-df-convert:hover {\n",
              "      background-color: #434B5C;\n",
              "      box-shadow: 0px 1px 3px 1px rgba(0, 0, 0, 0.15);\n",
              "      filter: drop-shadow(0px 1px 2px rgba(0, 0, 0, 0.3));\n",
              "      fill: #FFFFFF;\n",
              "    }\n",
              "  </style>\n",
              "\n",
              "      <script>\n",
              "        const buttonEl =\n",
              "          document.querySelector('#df-3faf163e-3270-474e-8185-525a4bccc3ab button.colab-df-convert');\n",
              "        buttonEl.style.display =\n",
              "          google.colab.kernel.accessAllowed ? 'block' : 'none';\n",
              "\n",
              "        async function convertToInteractive(key) {\n",
              "          const element = document.querySelector('#df-3faf163e-3270-474e-8185-525a4bccc3ab');\n",
              "          const dataTable =\n",
              "            await google.colab.kernel.invokeFunction('convertToInteractive',\n",
              "                                                     [key], {});\n",
              "          if (!dataTable) return;\n",
              "\n",
              "          const docLinkHtml = 'Like what you see? Visit the ' +\n",
              "            '<a target=\"_blank\" href=https://colab.research.google.com/notebooks/data_table.ipynb>data table notebook</a>'\n",
              "            + ' to learn more about interactive tables.';\n",
              "          element.innerHTML = '';\n",
              "          dataTable['output_type'] = 'display_data';\n",
              "          await google.colab.output.renderOutput(dataTable, element);\n",
              "          const docLink = document.createElement('div');\n",
              "          docLink.innerHTML = docLinkHtml;\n",
              "          element.appendChild(docLink);\n",
              "        }\n",
              "      </script>\n",
              "    </div>\n",
              "  </div>\n",
              "  "
            ]
          },
          "metadata": {},
          "execution_count": 56
        }
      ],
      "source": [
        "df.head()"
      ]
    },
    {
      "cell_type": "code",
      "execution_count": 57,
      "metadata": {
        "colab": {
          "base_uri": "https://localhost:8080/"
        },
        "id": "71Ljl7wK3qFD",
        "outputId": "973dcd58-1f7f-4e0a-8db2-a5fba5e9dab2"
      },
      "outputs": [
        {
          "output_type": "execute_result",
          "data": {
            "text/plain": [
              "(246091, 7)"
            ]
          },
          "metadata": {},
          "execution_count": 57
        }
      ],
      "source": [
        "df.shape"
      ]
    },
    {
      "cell_type": "code",
      "execution_count": 58,
      "metadata": {
        "colab": {
          "base_uri": "https://localhost:8080/"
        },
        "id": "dniyHkrO3qBx",
        "outputId": "7a4819b1-eea8-4ba4-f196-d1f59c203156"
      },
      "outputs": [
        {
          "output_type": "stream",
          "name": "stdout",
          "text": [
            "<class 'pandas.core.frame.DataFrame'>\n",
            "RangeIndex: 246091 entries, 0 to 246090\n",
            "Data columns (total 7 columns):\n",
            " #   Column         Non-Null Count   Dtype  \n",
            "---  ------         --------------   -----  \n",
            " 0   State_Name     246091 non-null  object \n",
            " 1   District_Name  246091 non-null  object \n",
            " 2   Crop_Year      246091 non-null  int64  \n",
            " 3   Season         246091 non-null  object \n",
            " 4   Crop           246091 non-null  object \n",
            " 5   Area           246091 non-null  float64\n",
            " 6   Production     242361 non-null  float64\n",
            "dtypes: float64(2), int64(1), object(4)\n",
            "memory usage: 13.1+ MB\n"
          ]
        }
      ],
      "source": [
        "df.info()"
      ]
    },
    {
      "cell_type": "code",
      "execution_count": 59,
      "metadata": {
        "colab": {
          "base_uri": "https://localhost:8080/"
        },
        "id": "snIwGYnZ3p_V",
        "outputId": "3b49c538-5352-4d23-be6e-dd46c9d10cdd"
      },
      "outputs": [
        {
          "output_type": "execute_result",
          "data": {
            "text/plain": [
              "State_Name          0\n",
              "District_Name       0\n",
              "Crop_Year           0\n",
              "Season              0\n",
              "Crop                0\n",
              "Area                0\n",
              "Production       3730\n",
              "dtype: int64"
            ]
          },
          "metadata": {},
          "execution_count": 59
        }
      ],
      "source": [
        "df.isnull().sum()"
      ]
    },
    {
      "cell_type": "code",
      "execution_count": 60,
      "metadata": {
        "id": "6mzxln2D3p7j"
      },
      "outputs": [],
      "source": [
        "df.dropna(subset=[\"Production\"],axis=0,inplace=True)"
      ]
    },
    {
      "cell_type": "code",
      "execution_count": 61,
      "metadata": {
        "colab": {
          "base_uri": "https://localhost:8080/"
        },
        "id": "FDJky4Lg3p4j",
        "outputId": "0856824b-988b-4a02-c199-76bc4ec795fd"
      },
      "outputs": [
        {
          "output_type": "execute_result",
          "data": {
            "text/plain": [
              "(242361, 7)"
            ]
          },
          "metadata": {},
          "execution_count": 61
        }
      ],
      "source": [
        "df.shape"
      ]
    },
    {
      "cell_type": "code",
      "execution_count": 62,
      "metadata": {
        "colab": {
          "base_uri": "https://localhost:8080/"
        },
        "id": "jDFlqRRi3p05",
        "outputId": "21ed2319-102c-41b9-d571-e6f414f913a8"
      },
      "outputs": [
        {
          "output_type": "execute_result",
          "data": {
            "text/plain": [
              "State_Name       0\n",
              "District_Name    0\n",
              "Crop_Year        0\n",
              "Season           0\n",
              "Crop             0\n",
              "Area             0\n",
              "Production       0\n",
              "dtype: int64"
            ]
          },
          "metadata": {},
          "execution_count": 62
        }
      ],
      "source": [
        "df.isnull().sum()"
      ]
    },
    {
      "cell_type": "markdown",
      "metadata": {
        "id": "CmrTK4hK4qIx"
      },
      "source": [
        "###Checking for Correlation between variables"
      ]
    },
    {
      "cell_type": "code",
      "execution_count": 63,
      "metadata": {
        "colab": {
          "base_uri": "https://localhost:8080/",
          "height": 510
        },
        "id": "BwUtQtdN3pxf",
        "outputId": "58a0e1ad-24b3-4a78-830d-9e608bdb6055"
      },
      "outputs": [
        {
          "output_type": "stream",
          "name": "stderr",
          "text": [
            "<ipython-input-63-d21a8883155f>:2: FutureWarning: The default value of numeric_only in DataFrame.corr is deprecated. In a future version, it will default to False. Select only valid columns or specify the value of numeric_only to silence this warning.\n",
            "  sns.heatmap(df.corr(),annot=True)\n"
          ]
        },
        {
          "output_type": "execute_result",
          "data": {
            "text/plain": [
              "<Axes: >"
            ]
          },
          "metadata": {},
          "execution_count": 63
        },
        {
          "output_type": "display_data",
          "data": {
            "text/plain": [
              "<Figure size 640x480 with 2 Axes>"
            ],
            "image/png": "[encoded data removed]"
          },
          "metadata": {}
        }
      ],
      "source": [
        "plt.tick_params(labelsize=10)\n",
        "sns.heatmap(df.corr(),annot=True)"
      ]
    },
    {
      "cell_type": "code",
      "execution_count": 64,
      "metadata": {
        "colab": {
          "base_uri": "https://localhost:8080/"
        },
        "id": "mohlvfgX3puJ",
        "outputId": "cc0235f3-191c-40d2-bb02-a2c7e230138d"
      },
      "outputs": [
        {
          "output_type": "execute_result",
          "data": {
            "text/plain": [
              "Index(['State_Name', 'District_Name', 'Crop_Year', 'Season', 'Crop', 'Area',\n",
              "       'Production'],\n",
              "      dtype='object')"
            ]
          },
          "metadata": {},
          "execution_count": 64
        }
      ],
      "source": [
        "df.columns"
      ]
    },
    {
      "cell_type": "code",
      "execution_count": 65,
      "metadata": {
        "colab": {
          "base_uri": "https://localhost:8080/"
        },
        "id": "xjGqixyP4oQH",
        "outputId": "5aaf89cb-d993-4297-e541-4ecf4f2b2ea6"
      },
      "outputs": [
        {
          "output_type": "execute_result",
          "data": {
            "text/plain": [
              "array(['Andaman and Nicobar Islands', 'Andhra Pradesh',\n",
              "       'Arunachal Pradesh', 'Assam', 'Bihar', 'Chandigarh',\n",
              "       'Chhattisgarh', 'Dadra and Nagar Haveli', 'Goa', 'Gujarat',\n",
              "       'Haryana', 'Himachal Pradesh', 'Jammu and Kashmir ', 'Jharkhand',\n",
              "       'Karnataka', 'Kerala', 'Madhya Pradesh', 'Maharashtra', 'Manipur',\n",
              "       'Meghalaya', 'Mizoram', 'Nagaland', 'Odisha', 'Puducherry',\n",
              "       'Punjab', 'Rajasthan', 'Sikkim', 'Tamil Nadu', 'Telangana ',\n",
              "       'Tripura', 'Uttar Pradesh', 'Uttarakhand', 'West Bengal'],\n",
              "      dtype=object)"
            ]
          },
          "metadata": {},
          "execution_count": 65
        }
      ],
      "source": [
        "df.State_Name.unique()"
      ]
    },
    {
      "cell_type": "code",
      "execution_count": 66,
      "metadata": {
        "colab": {
          "base_uri": "https://localhost:8080/"
        },
        "id": "URXZlIoM46jN",
        "outputId": "e47ab25b-be85-47c7-f289-b8e93634f6a9"
      },
      "outputs": [
        {
          "output_type": "execute_result",
          "data": {
            "text/plain": [
              "33"
            ]
          },
          "metadata": {},
          "execution_count": 66
        }
      ],
      "source": [
        "df.State_Name.nunique()"
      ]
    },
    {
      "cell_type": "code",
      "execution_count": 67,
      "metadata": {
        "colab": {
          "base_uri": "https://localhost:8080/"
        },
        "id": "ZtcX__M74_lR",
        "outputId": "404f81e7-4e91-4c36-a756-b2cd461b2760"
      },
      "outputs": [
        {
          "output_type": "execute_result",
          "data": {
            "text/plain": [
              "Uttar Pradesh                  33189\n",
              "Madhya Pradesh                 22604\n",
              "Karnataka                      21079\n",
              "Bihar                          18874\n",
              "Assam                          14622\n",
              "Odisha                         13524\n",
              "Tamil Nadu                     13266\n",
              "Maharashtra                    12496\n",
              "Rajasthan                      12066\n",
              "Chhattisgarh                   10368\n",
              "West Bengal                     9597\n",
              "Andhra Pradesh                  9561\n",
              "Gujarat                         8365\n",
              "Telangana                       5591\n",
              "Uttarakhand                     4825\n",
              "Haryana                         4540\n",
              "Kerala                          4003\n",
              "Nagaland                        3904\n",
              "Punjab                          3143\n",
              "Meghalaya                       2867\n",
              "Arunachal Pradesh               2545\n",
              "Himachal Pradesh                2456\n",
              "Jammu and Kashmir               1632\n",
              "Tripura                         1412\n",
              "Manipur                         1266\n",
              "Jharkhand                       1266\n",
              "Mizoram                          954\n",
              "Puducherry                       872\n",
              "Sikkim                           714\n",
              "Dadra and Nagar Haveli           263\n",
              "Goa                              207\n",
              "Andaman and Nicobar Islands      201\n",
              "Chandigarh                        89\n",
              "Name: State_Name, dtype: int64"
            ]
          },
          "metadata": {},
          "execution_count": 67
        }
      ],
      "source": [
        "df.State_Name.value_counts()"
      ]
    },
    {
      "cell_type": "code",
      "execution_count": 68,
      "metadata": {
        "colab": {
          "base_uri": "https://localhost:8080/"
        },
        "id": "Sk7Kn34-5CwB",
        "outputId": "55e10f6a-cb60-4f70-9c91-aa7e73d464af"
      },
      "outputs": [
        {
          "output_type": "execute_result",
          "data": {
            "text/plain": [
              "646"
            ]
          },
          "metadata": {},
          "execution_count": 68
        }
      ],
      "source": [
        "df.District_Name.nunique()"
      ]
    },
    {
      "cell_type": "code",
      "execution_count": 69,
      "metadata": {
        "colab": {
          "base_uri": "https://localhost:8080/"
        },
        "id": "s8_oTJNl5GJl",
        "outputId": "680a147c-971f-4e07-97b1-a1f1c6149462"
      },
      "outputs": [
        {
          "output_type": "execute_result",
          "data": {
            "text/plain": [
              "TUMKUR       931\n",
              "BELGAUM      924\n",
              "BIJAPUR      905\n",
              "HASSAN       895\n",
              "BELLARY      887\n",
              "            ... \n",
              "HYDERABAD      8\n",
              "KHUNTI         6\n",
              "RAMGARH        6\n",
              "NAMSAI         1\n",
              "MUMBAI         1\n",
              "Name: District_Name, Length: 646, dtype: int64"
            ]
          },
          "metadata": {},
          "execution_count": 69
        }
      ],
      "source": [
        "df.District_Name.value_counts()"
      ]
    },
    {
      "cell_type": "markdown",
      "metadata": {
        "id": "u0wCgVvE5YZJ"
      },
      "source": [
        "####Crop Year Variable"
      ]
    },
    {
      "cell_type": "code",
      "execution_count": 70,
      "metadata": {
        "colab": {
          "base_uri": "https://localhost:8080/",
          "height": 300
        },
        "id": "vZ0Sb3KL5MFS",
        "outputId": "6b3dce66-84f9-4d29-8b15-b6b367ae948b"
      },
      "outputs": [
        {
          "output_type": "execute_result",
          "data": {
            "text/plain": [
              "           Crop_Year          Area    Production\n",
              "count  242361.000000  2.423610e+05  2.423610e+05\n",
              "mean     2005.625773  1.216741e+04  5.825034e+05\n",
              "std         4.958285  5.085744e+04  1.706581e+07\n",
              "min      1997.000000  1.000000e-01  0.000000e+00\n",
              "25%      2002.000000  8.700000e+01  8.800000e+01\n",
              "50%      2006.000000  6.030000e+02  7.290000e+02\n",
              "75%      2010.000000  4.545000e+03  7.023000e+03\n",
              "max      2015.000000  8.580100e+06  1.250800e+09"
            ],
            "text/html": [
              "\n",
              "  <div id=\"df-bceaa329-cb82-4e80-a5bb-2afad8746024\">\n",
              "    <div class=\"colab-df-container\">\n",
              "      <div>\n",
              "<style scoped>\n",
              "    .dataframe tbody tr th:only-of-type {\n",
              "        vertical-align: middle;\n",
              "    }\n",
              "\n",
              "    .dataframe tbody tr th {\n",
              "        vertical-align: top;\n",
              "    }\n",
              "\n",
              "    .dataframe thead th {\n",
              "        text-align: right;\n",
              "    }\n",
              "</style>\n",
              "<table border=\"1\" class=\"dataframe\">\n",
              "  <thead>\n",
              "    <tr style=\"text-align: right;\">\n",
              "      <th></th>\n",
              "      <th>Crop_Year</th>\n",
              "      <th>Area</th>\n",
              "      <th>Production</th>\n",
              "    </tr>\n",
              "  </thead>\n",
              "  <tbody>\n",
              "    <tr>\n",
              "      <th>count</th>\n",
              "      <td>242361.000000</td>\n",
              "      <td>2.423610e+05</td>\n",
              "      <td>2.423610e+05</td>\n",
              "    </tr>\n",
              "    <tr>\n",
              "      <th>mean</th>\n",
              "      <td>2005.625773</td>\n",
              "      <td>1.216741e+04</td>\n",
              "      <td>5.825034e+05</td>\n",
              "    </tr>\n",
              "    <tr>\n",
              "      <th>std</th>\n",
              "      <td>4.958285</td>\n",
              "      <td>5.085744e+04</td>\n",
              "      <td>1.706581e+07</td>\n",
              "    </tr>\n",
              "    <tr>\n",
              "      <th>min</th>\n",
              "      <td>1997.000000</td>\n",
              "      <td>1.000000e-01</td>\n",
              "      <td>0.000000e+00</td>\n",
              "    </tr>\n",
              "    <tr>\n",
              "      <th>25%</th>\n",
              "      <td>2002.000000</td>\n",
              "      <td>8.700000e+01</td>\n",
              "      <td>8.800000e+01</td>\n",
              "    </tr>\n",
              "    <tr>\n",
              "      <th>50%</th>\n",
              "      <td>2006.000000</td>\n",
              "      <td>6.030000e+02</td>\n",
              "      <td>7.290000e+02</td>\n",
              "    </tr>\n",
              "    <tr>\n",
              "      <th>75%</th>\n",
              "      <td>2010.000000</td>\n",
              "      <td>4.545000e+03</td>\n",
              "      <td>7.023000e+03</td>\n",
              "    </tr>\n",
              "    <tr>\n",
              "      <th>max</th>\n",
              "      <td>2015.000000</td>\n",
              "      <td>8.580100e+06</td>\n",
              "      <td>1.250800e+09</td>\n",
              "    </tr>\n",
              "  </tbody>\n",
              "</table>\n",
              "</div>\n",
              "      <button class=\"colab-df-convert\" onclick=\"convertToInteractive('df-bceaa329-cb82-4e80-a5bb-2afad8746024')\"\n",
              "              title=\"Convert this dataframe to an interactive table.\"\n",
              "              style=\"display:none;\">\n",
              "        \n",
              "  <svg xmlns=\"http://www.w3.org/2000/svg\" height=\"24px\"viewBox=\"0 0 24 24\"\n",
              "       width=\"24px\">\n",
              "    <path d=\"M0 0h24v24H0V0z\" fill=\"none\"/>\n",
              "    <path d=\"M18.56 5.44l.94 2.06.94-2.06 2.06-.94-2.06-.94-.94-2.06-.94 2.06-2.06.94zm-11 1L8.5 8.5l.94-2.06 2.06-.94-2.06-.94L8.5 2.5l-.94 2.06-2.06.94zm10 10l.94 2.06.94-2.06 2.06-.94-2.06-.94-.94-2.06-.94 2.06-2.06.94z\"/><path d=\"M17.41 7.96l-1.37-1.37c-.4-.4-.92-.59-1.43-.59-.52 0-1.04.2-1.43.59L10.3 9.45l-7.72 7.72c-.78.78-.78 2.05 0 2.83L4 21.41c.39.39.9.59 1.41.59.51 0 1.02-.2 1.41-.59l7.78-7.78 2.81-2.81c.8-.78.8-2.07 0-2.86zM5.41 20L4 18.59l7.72-7.72 1.47 1.35L5.41 20z\"/>\n",
              "  </svg>\n",
              "      </button>\n",
              "      \n",
              "  <style>\n",
              "    .colab-df-container {\n",
              "      display:flex;\n",
              "      flex-wrap:wrap;\n",
              "      gap: 12px;\n",
              "    }\n",
              "\n",
              "    .colab-df-convert {\n",
              "      background-color: #E8F0FE;\n",
              "      border: none;\n",
              "      border-radius: 50%;\n",
              "      cursor: pointer;\n",
              "      display: none;\n",
              "      fill: #1967D2;\n",
              "      height: 32px;\n",
              "      padding: 0 0 0 0;\n",
              "      width: 32px;\n",
              "    }\n",
              "\n",
              "    .colab-df-convert:hover {\n",
              "      background-color: #E2EBFA;\n",
              "      box-shadow: 0px 1px 2px rgba(60, 64, 67, 0.3), 0px 1px 3px 1px rgba(60, 64, 67, 0.15);\n",
              "      fill: #174EA6;\n",
              "    }\n",
              "\n",
              "    [theme=dark] .colab-df-convert {\n",
              "      background-color: #3B4455;\n",
              "      fill: #D2E3FC;\n",
              "    }\n",
              "\n",
              "    [theme=dark] .colab-df-convert:hover {\n",
              "      background-color: #434B5C;\n",
              "      box-shadow: 0px 1px 3px 1px rgba(0, 0, 0, 0.15);\n",
              "      filter: drop-shadow(0px 1px 2px rgba(0, 0, 0, 0.3));\n",
              "      fill: #FFFFFF;\n",
              "    }\n",
              "  </style>\n",
              "\n",
              "      <script>\n",
              "        const buttonEl =\n",
              "          document.querySelector('#df-bceaa329-cb82-4e80-a5bb-2afad8746024 button.colab-df-convert');\n",
              "        buttonEl.style.display =\n",
              "          google.colab.kernel.accessAllowed ? 'block' : 'none';\n",
              "\n",
              "        async function convertToInteractive(key) {\n",
              "          const element = document.querySelector('#df-bceaa329-cb82-4e80-a5bb-2afad8746024');\n",
              "          const dataTable =\n",
              "            await google.colab.kernel.invokeFunction('convertToInteractive',\n",
              "                                                     [key], {});\n",
              "          if (!dataTable) return;\n",
              "\n",
              "          const docLinkHtml = 'Like what you see? Visit the ' +\n",
              "            '<a target=\"_blank\" href=https://colab.research.google.com/notebooks/data_table.ipynb>data table notebook</a>'\n",
              "            + ' to learn more about interactive tables.';\n",
              "          element.innerHTML = '';\n",
              "          dataTable['output_type'] = 'display_data';\n",
              "          await google.colab.output.renderOutput(dataTable, element);\n",
              "          const docLink = document.createElement('div');\n",
              "          docLink.innerHTML = docLinkHtml;\n",
              "          element.appendChild(docLink);\n",
              "        }\n",
              "      </script>\n",
              "    </div>\n",
              "  </div>\n",
              "  "
            ]
          },
          "metadata": {},
          "execution_count": 70
        }
      ],
      "source": [
        "df.describe()"
      ]
    },
    {
      "cell_type": "code",
      "execution_count": 71,
      "metadata": {
        "colab": {
          "base_uri": "https://localhost:8080/"
        },
        "id": "xQaimVIa5ln3",
        "outputId": "0c1dcfa1-4116-48d4-aa98-56dd0617fb50"
      },
      "outputs": [
        {
          "output_type": "execute_result",
          "data": {
            "text/plain": [
              "19"
            ]
          },
          "metadata": {},
          "execution_count": 71
        }
      ],
      "source": [
        "df.Crop_Year.nunique()"
      ]
    },
    {
      "cell_type": "code",
      "execution_count": 72,
      "metadata": {
        "colab": {
          "base_uri": "https://localhost:8080/"
        },
        "id": "3Vd1dPP_5uOQ",
        "outputId": "a469f9f3-0d2f-4041-a3d8-042d6a978c52"
      },
      "outputs": [
        {
          "output_type": "execute_result",
          "data": {
            "text/plain": [
              "1997"
            ]
          },
          "metadata": {},
          "execution_count": 72
        }
      ],
      "source": [
        "df.Crop_Year.min()"
      ]
    },
    {
      "cell_type": "code",
      "execution_count": 73,
      "metadata": {
        "colab": {
          "base_uri": "https://localhost:8080/"
        },
        "id": "xQxGaVot51hD",
        "outputId": "2a489552-ba61-4269-af13-74648bff864e"
      },
      "outputs": [
        {
          "output_type": "execute_result",
          "data": {
            "text/plain": [
              "2015"
            ]
          },
          "metadata": {},
          "execution_count": 73
        }
      ],
      "source": [
        "df.Crop_Year.max()"
      ]
    },
    {
      "cell_type": "code",
      "execution_count": 74,
      "metadata": {
        "colab": {
          "base_uri": "https://localhost:8080/"
        },
        "id": "hpkGugHS55sc",
        "outputId": "e2ff9fc8-5aba-453b-92bd-ce8726a37c72"
      },
      "outputs": [
        {
          "output_type": "execute_result",
          "data": {
            "text/plain": [
              "2003    17139\n",
              "2002    16536\n",
              "2007    14269\n",
              "2008    14230\n",
              "2006    13976\n",
              "2004    13858\n",
              "2010    13793\n",
              "2011    13791\n",
              "2009    13767\n",
              "2000    13553\n",
              "2005    13519\n",
              "2013    13475\n",
              "2001    13293\n",
              "2012    13184\n",
              "1999    12441\n",
              "1998    11262\n",
              "2014    10815\n",
              "1997     8899\n",
              "2015      561\n",
              "Name: Crop_Year, dtype: int64"
            ]
          },
          "metadata": {},
          "execution_count": 74
        }
      ],
      "source": [
        "df.Crop_Year.value_counts()"
      ]
    },
    {
      "cell_type": "markdown",
      "metadata": {
        "id": "hskYVxW16HNO"
      },
      "source": []
    },
    {
      "cell_type": "code",
      "execution_count": 75,
      "metadata": {
        "colab": {
          "base_uri": "https://localhost:8080/"
        },
        "id": "r9lcskml5_aq",
        "outputId": "4f53c520-93b0-4189-9ca6-fb22d5ad1ce2"
      },
      "outputs": [
        {
          "output_type": "stream",
          "name": "stdout",
          "text": [
            "Number of Unique Season is -->  6\n",
            "Unique Season is --> \n",
            "  ['Kharif     ' 'Whole Year ' 'Autumn     ' 'Rabi       ' 'Summer     '\n",
            " 'Winter     ']\n",
            "Maximum Season is --> Winter     \n",
            "Number of value in each season is --> \n",
            " Kharif         94283\n",
            "Rabi           66160\n",
            "Whole Year     56127\n",
            "Summer         14811\n",
            "Winter          6050\n",
            "Autumn          4930\n",
            "Name: Season, dtype: int64\n"
          ]
        }
      ],
      "source": [
        "print(\"Number of Unique Season is --> \",df.Season.nunique())\n",
        "print(\"Unique Season is --> \\n \", df.Season.unique())\n",
        "print(\"Maximum Season is -->\", df.Season.max())\n",
        "print(\"Number of value in each season is --> \\n\", df.Season.value_counts())"
      ]
    },
    {
      "cell_type": "code",
      "execution_count": 76,
      "metadata": {
        "colab": {
          "base_uri": "https://localhost:8080/"
        },
        "id": "YFn7RgZP6lcd",
        "outputId": "aea6d093-6096-4ae2-ac94-056d1675c017"
      },
      "outputs": [
        {
          "output_type": "stream",
          "name": "stdout",
          "text": [
            "124\n"
          ]
        }
      ],
      "source": [
        "print(df.Crop.nunique())\n"
      ]
    },
    {
      "cell_type": "code",
      "execution_count": 77,
      "metadata": {
        "colab": {
          "base_uri": "https://localhost:8080/"
        },
        "id": "aqFL8IKh7L-4",
        "outputId": "107c0dd2-2aa7-4750-e4d5-2696bbd11e48"
      },
      "outputs": [
        {
          "output_type": "stream",
          "name": "stdout",
          "text": [
            "['Arecanut' 'Other Kharif pulses' 'Rice' 'Banana' 'Cashewnut' 'Coconut '\n",
            " 'Dry ginger' 'Sugarcane' 'Sweet potato' 'Tapioca' 'Black pepper'\n",
            " 'Dry chillies' 'other oilseeds' 'Turmeric' 'Maize' 'Moong(Green Gram)'\n",
            " 'Urad' 'Arhar/Tur' 'Groundnut' 'Sunflower' 'Bajra' 'Castor seed'\n",
            " 'Cotton(lint)' 'Horse-gram' 'Jowar' 'Korra' 'Ragi' 'Tobacco' 'Gram'\n",
            " 'Wheat' 'Masoor' 'Sesamum' 'Linseed' 'Safflower' 'Onion'\n",
            " 'other misc. pulses' 'Samai' 'Small millets' 'Coriander' 'Potato'\n",
            " 'Other  Rabi pulses' 'Soyabean' 'Beans & Mutter(Vegetable)' 'Bhindi'\n",
            " 'Brinjal' 'Citrus Fruit' 'Cucumber' 'Grapes' 'Mango' 'Orange'\n",
            " 'other fibres' 'Other Fresh Fruits' 'Other Vegetables' 'Papaya'\n",
            " 'Pome Fruit' 'Tomato' 'Mesta' 'Cowpea(Lobia)' 'Lemon' 'Pome Granet'\n",
            " 'Sapota' 'Cabbage' 'Rapeseed &Mustard' 'Peas  (vegetable)' 'Niger seed'\n",
            " 'Bottle Gourd' 'Varagu' 'Garlic' 'Ginger' 'Oilseeds total' 'Pulses total'\n",
            " 'Jute' 'Peas & beans (Pulses)' 'Blackgram' 'Paddy' 'Pineapple' 'Barley'\n",
            " 'Sannhamp' 'Khesari' 'Guar seed' 'Moth' 'Other Cereals & Millets'\n",
            " 'Cond-spcs other' 'Turnip' 'Carrot' 'Redish' 'Arcanut (Processed)'\n",
            " 'Atcanut (Raw)' 'Cashewnut Processed' 'Cashewnut Raw' 'Cardamom' 'Rubber'\n",
            " 'Bitter Gourd' 'Drum Stick' 'Jack Fruit' 'Snak Guard' 'Tea' 'Coffee'\n",
            " 'Cauliflower' 'Other Citrus Fruit' 'Water Melon' 'Total foodgrain'\n",
            " 'Kapas' 'Colocosia' 'Lentil' 'Bean' 'Jobster' 'Perilla' 'Rajmash Kholar'\n",
            " 'Ricebean (nagadal)' 'Ash Gourd' 'Beet Root' 'Lab-Lab' 'Ribed Guard'\n",
            " 'Yam' 'Pump Kin' 'Apple' 'Peach' 'Pear' 'Plums' 'Litchi' 'Ber'\n",
            " 'Other Dry Fruit' 'Jute & mesta']\n"
          ]
        }
      ],
      "source": [
        "print(df.Crop.unique())\n"
      ]
    },
    {
      "cell_type": "code",
      "execution_count": 78,
      "metadata": {
        "colab": {
          "base_uri": "https://localhost:8080/"
        },
        "id": "LTkhCu4J7NyH",
        "outputId": "cedd312e-502e-48aa-dab1-2377725ec82f"
      },
      "outputs": [
        {
          "output_type": "stream",
          "name": "stdout",
          "text": [
            "other oilseeds\n"
          ]
        }
      ],
      "source": [
        "print(df.Crop.max())\n"
      ]
    },
    {
      "cell_type": "code",
      "execution_count": 79,
      "metadata": {
        "colab": {
          "base_uri": "https://localhost:8080/"
        },
        "id": "b8T1FJfn7QQU",
        "outputId": "6e66bfb0-0109-4080-fb28-6aeafd5f7a61"
      },
      "outputs": [
        {
          "output_type": "stream",
          "name": "stdout",
          "text": [
            "Rice                     15082\n",
            "Maize                    13787\n",
            "Moong(Green Gram)        10106\n",
            "Urad                      9710\n",
            "Sesamum                   8821\n",
            "Groundnut                 8770\n",
            "Wheat                     7878\n",
            "Sugarcane                 7827\n",
            "Rapeseed &Mustard         7533\n",
            "Arhar/Tur                 7476\n",
            "Gram                      7227\n",
            "Jowar                     6990\n",
            "Onion                     6984\n",
            "Potato                    6914\n",
            "Dry chillies              6421\n",
            "Sunflower                 5483\n",
            "Bajra                     5379\n",
            "Small millets             4593\n",
            "Peas & beans (Pulses)     4447\n",
            "Cotton(lint)              4382\n",
            "Name: Crop, dtype: int64\n"
          ]
        }
      ],
      "source": [
        "print(df.Crop.value_counts().head(20))"
      ]
    },
    {
      "cell_type": "markdown",
      "metadata": {
        "id": "EeLXAYJ87YgG"
      },
      "source": [
        "###Area Variable"
      ]
    },
    {
      "cell_type": "code",
      "execution_count": 80,
      "metadata": {
        "colab": {
          "base_uri": "https://localhost:8080/"
        },
        "id": "TgICeALa7REd",
        "outputId": "39b0e698-df8b-4279-fc4e-920453a686a5"
      },
      "outputs": [
        {
          "output_type": "stream",
          "name": "stdout",
          "text": [
            "Number of Different unique area is --> 38391\n",
            "Maximum area is --> 8580100.0\n"
          ]
        }
      ],
      "source": [
        "print(\"Number of Different unique area is -->\",df.Area.nunique())\n",
        "print(\"Maximum area is -->\", df.Area.max())\n"
      ]
    },
    {
      "cell_type": "code",
      "execution_count": 81,
      "metadata": {
        "colab": {
          "base_uri": "https://localhost:8080/"
        },
        "id": "uGln_FQP7rEi",
        "outputId": "90ec96f6-88c8-4898-8ea5-216453964330"
      },
      "outputs": [
        {
          "output_type": "stream",
          "name": "stdout",
          "text": [
            "1.0      3573\n",
            "2.0      3140\n",
            "100.0    2621\n",
            "3.0      2478\n",
            "4.0      2182\n",
            "5.0      2090\n",
            "6.0      1750\n",
            "200.0    1671\n",
            "10.0     1590\n",
            "7.0      1555\n",
            "Name: Area, dtype: int64\n"
          ]
        }
      ],
      "source": [
        "print(df.Area.value_counts().head(10))\n"
      ]
    },
    {
      "cell_type": "code",
      "execution_count": 82,
      "metadata": {
        "colab": {
          "base_uri": "https://localhost:8080/"
        },
        "id": "KIengD0I7v90",
        "outputId": "6a1d27a0-c536-466c-9197-607b8880f6a4"
      },
      "outputs": [
        {
          "output_type": "stream",
          "name": "stdout",
          "text": [
            "63107.0     1\n",
            "13655.0     1\n",
            "95399.0     1\n",
            "71644.0     1\n",
            "17459.0     1\n",
            "25569.0     1\n",
            "19349.0     1\n",
            "90302.0     1\n",
            "39698.0     1\n",
            "279151.0    1\n",
            "Name: Area, dtype: int64\n"
          ]
        }
      ],
      "source": [
        "print(df.Area.value_counts().tail(10))"
      ]
    },
    {
      "cell_type": "markdown",
      "metadata": {
        "id": "C4R0hbc577x2"
      },
      "source": [
        "####Production Variable"
      ]
    },
    {
      "cell_type": "code",
      "execution_count": 83,
      "metadata": {
        "colab": {
          "base_uri": "https://localhost:8080/"
        },
        "id": "zzizyi9X7w6w",
        "outputId": "4a6e032f-8549-4ed4-89f2-feda06cd2161"
      },
      "outputs": [
        {
          "output_type": "execute_result",
          "data": {
            "text/plain": [
              "count    2.423610e+05\n",
              "mean     5.825034e+05\n",
              "std      1.706581e+07\n",
              "min      0.000000e+00\n",
              "25%      8.800000e+01\n",
              "50%      7.290000e+02\n",
              "75%      7.023000e+03\n",
              "max      1.250800e+09\n",
              "Name: Production, dtype: float64"
            ]
          },
          "metadata": {},
          "execution_count": 83
        }
      ],
      "source": [
        "df.Production.describe()"
      ]
    },
    {
      "cell_type": "code",
      "execution_count": 84,
      "metadata": {
        "colab": {
          "base_uri": "https://localhost:8080/"
        },
        "id": "YbSMpPU_8Bzn",
        "outputId": "45cb01a2-c685-4a78-c67a-18877d2c8577"
      },
      "outputs": [
        {
          "output_type": "execute_result",
          "data": {
            "text/plain": [
              "1250800000.0"
            ]
          },
          "metadata": {},
          "execution_count": 84
        }
      ],
      "source": [
        "df.Production.max()"
      ]
    },
    {
      "cell_type": "code",
      "execution_count": 85,
      "metadata": {
        "colab": {
          "base_uri": "https://localhost:8080/"
        },
        "id": "8_tR7HQ48H9L",
        "outputId": "1cc8c168-440a-4a4e-8eb0-a78d013af54c"
      },
      "outputs": [
        {
          "output_type": "execute_result",
          "data": {
            "text/plain": [
              "1.000000e+00    4028\n",
              "0.000000e+00    3523\n",
              "1.000000e+02    3521\n",
              "2.000000e+00    2964\n",
              "3.000000e+00    2311\n",
              "                ... \n",
              "2.120000e+08       1\n",
              "1.070000e+00       1\n",
              "2.293410e+05       1\n",
              "1.870600e+04       1\n",
              "5.978990e+05       1\n",
              "Name: Production, Length: 51627, dtype: int64"
            ]
          },
          "metadata": {},
          "execution_count": 85
        }
      ],
      "source": [
        "df.Production.value_counts(ascending = False)"
      ]
    },
    {
      "cell_type": "code",
      "execution_count": 86,
      "metadata": {
        "colab": {
          "base_uri": "https://localhost:8080/"
        },
        "id": "VogIho0Q8Mmo",
        "outputId": "e0cc061e-6e25-4dd3-da14-89cf4fb7a43e"
      },
      "outputs": [
        {
          "output_type": "stream",
          "name": "stdout",
          "text": [
            "<class 'pandas.core.frame.DataFrame'>\n",
            "Int64Index: 242361 entries, 0 to 246090\n",
            "Data columns (total 7 columns):\n",
            " #   Column         Non-Null Count   Dtype  \n",
            "---  ------         --------------   -----  \n",
            " 0   State_Name     242361 non-null  object \n",
            " 1   District_Name  242361 non-null  object \n",
            " 2   Crop_Year      242361 non-null  int64  \n",
            " 3   Season         242361 non-null  object \n",
            " 4   Crop           242361 non-null  object \n",
            " 5   Area           242361 non-null  float64\n",
            " 6   Production     242361 non-null  float64\n",
            "dtypes: float64(2), int64(1), object(4)\n",
            "memory usage: 14.8+ MB\n"
          ]
        }
      ],
      "source": [
        "df.info()"
      ]
    },
    {
      "cell_type": "code",
      "execution_count": 87,
      "metadata": {
        "colab": {
          "base_uri": "https://localhost:8080/",
          "height": 445
        },
        "id": "ZKu5Twg18O73",
        "outputId": "6571781f-725e-4953-9780-8ed64d45e2fa"
      },
      "outputs": [
        {
          "output_type": "display_data",
          "data": {
            "text/plain": [
              "<Figure size 640x480 with 1 Axes>"
            ],
            "image/png": "[encoded data removed]"
          },
          "metadata": {}
        }
      ],
      "source": [
        "plt.boxplot(df.Area);"
      ]
    },
    {
      "cell_type": "code",
      "execution_count": 88,
      "metadata": {
        "colab": {
          "base_uri": "https://localhost:8080/",
          "height": 445
        },
        "id": "GKKCUeT78Vdp",
        "outputId": "44b7d50d-39f3-4ae0-f2ef-f8db4031c4c9"
      },
      "outputs": [
        {
          "output_type": "display_data",
          "data": {
            "text/plain": [
              "<Figure size 640x480 with 1 Axes>"
            ],
            "image/png": "[encoded data removed]"
          },
          "metadata": {}
        }
      ],
      "source": [
        "plt.boxplot(df.Production);"
      ]
    },
    {
      "cell_type": "markdown",
      "metadata": {
        "id": "D_UbdyoU8o0H"
      },
      "source": [
        "###Bivariate Anaysis"
      ]
    },
    {
      "cell_type": "code",
      "execution_count": 89,
      "metadata": {
        "colab": {
          "base_uri": "https://localhost:8080/",
          "height": 456
        },
        "id": "Y0Nzj-ia8dhp",
        "outputId": "029c6e0d-f4b8-464b-d8ed-778c3ae840c4"
      },
      "outputs": [
        {
          "output_type": "stream",
          "name": "stderr",
          "text": [
            "<ipython-input-89-b30c6e812fa8>:1: FutureWarning: Indexing with multiple keys (implicitly converted to a tuple of keys) will be deprecated, use a list instead.\n",
            "  Prod = df.groupby(by = df.State_Name)['Production','State_Name'].sum().reset_index().sort_values(by = 'Production', ascending = False).head(10)\n",
            "<ipython-input-89-b30c6e812fa8>:1: FutureWarning: The default value of numeric_only in DataFrameGroupBy.sum is deprecated. In a future version, numeric_only will default to False. Either specify numeric_only or select only columns which should be valid for the function.\n",
            "  Prod = df.groupby(by = df.State_Name)['Production','State_Name'].sum().reset_index().sort_values(by = 'Production', ascending = False).head(10)\n"
          ]
        },
        {
          "output_type": "execute_result",
          "data": {
            "text/plain": [
              "                     State_Name    Production\n",
              "15                       Kerala  9.788005e+10\n",
              "1                Andhra Pradesh  1.732459e+10\n",
              "27                   Tamil Nadu  1.207644e+10\n",
              "30                Uttar Pradesh  3.234493e+09\n",
              "3                         Assam  2.111752e+09\n",
              "32                  West Bengal  1.397904e+09\n",
              "17                  Maharashtra  1.263641e+09\n",
              "14                    Karnataka  8.634298e+08\n",
              "0   Andaman and Nicobar Islands  7.182232e+08\n",
              "24                       Punjab  5.863850e+08"
            ],
            "text/html": [
              "\n",
              "  <div id=\"df-2e6df5d8-1227-412a-900a-58cc9c47834f\">\n",
              "    <div class=\"colab-df-container\">\n",
              "      <div>\n",
              "<style scoped>\n",
              "    .dataframe tbody tr th:only-of-type {\n",
              "        vertical-align: middle;\n",
              "    }\n",
              "\n",
              "    .dataframe tbody tr th {\n",
              "        vertical-align: top;\n",
              "    }\n",
              "\n",
              "    .dataframe thead th {\n",
              "        text-align: right;\n",
              "    }\n",
              "</style>\n",
              "<table border=\"1\" class=\"dataframe\">\n",
              "  <thead>\n",
              "    <tr style=\"text-align: right;\">\n",
              "      <th></th>\n",
              "      <th>State_Name</th>\n",
              "      <th>Production</th>\n",
              "    </tr>\n",
              "  </thead>\n",
              "  <tbody>\n",
              "    <tr>\n",
              "      <th>15</th>\n",
              "      <td>Kerala</td>\n",
              "      <td>9.788005e+10</td>\n",
              "    </tr>\n",
              "    <tr>\n",
              "      <th>1</th>\n",
              "      <td>Andhra Pradesh</td>\n",
              "      <td>1.732459e+10</td>\n",
              "    </tr>\n",
              "    <tr>\n",
              "      <th>27</th>\n",
              "      <td>Tamil Nadu</td>\n",
              "      <td>1.207644e+10</td>\n",
              "    </tr>\n",
              "    <tr>\n",
              "      <th>30</th>\n",
              "      <td>Uttar Pradesh</td>\n",
              "      <td>3.234493e+09</td>\n",
              "    </tr>\n",
              "    <tr>\n",
              "      <th>3</th>\n",
              "      <td>Assam</td>\n",
              "      <td>2.111752e+09</td>\n",
              "    </tr>\n",
              "    <tr>\n",
              "      <th>32</th>\n",
              "      <td>West Bengal</td>\n",
              "      <td>1.397904e+09</td>\n",
              "    </tr>\n",
              "    <tr>\n",
              "      <th>17</th>\n",
              "      <td>Maharashtra</td>\n",
              "      <td>1.263641e+09</td>\n",
              "    </tr>\n",
              "    <tr>\n",
              "      <th>14</th>\n",
              "      <td>Karnataka</td>\n",
              "      <td>8.634298e+08</td>\n",
              "    </tr>\n",
              "    <tr>\n",
              "      <th>0</th>\n",
              "      <td>Andaman and Nicobar Islands</td>\n",
              "      <td>7.182232e+08</td>\n",
              "    </tr>\n",
              "    <tr>\n",
              "      <th>24</th>\n",
              "      <td>Punjab</td>\n",
              "      <td>5.863850e+08</td>\n",
              "    </tr>\n",
              "  </tbody>\n",
              "</table>\n",
              "</div>\n",
              "      <button class=\"colab-df-convert\" onclick=\"convertToInteractive('df-2e6df5d8-1227-412a-900a-58cc9c47834f')\"\n",
              "              title=\"Convert this dataframe to an interactive table.\"\n",
              "              style=\"display:none;\">\n",
              "        \n",
              "  <svg xmlns=\"http://www.w3.org/2000/svg\" height=\"24px\"viewBox=\"0 0 24 24\"\n",
              "       width=\"24px\">\n",
              "    <path d=\"M0 0h24v24H0V0z\" fill=\"none\"/>\n",
              "    <path d=\"M18.56 5.44l.94 2.06.94-2.06 2.06-.94-2.06-.94-.94-2.06-.94 2.06-2.06.94zm-11 1L8.5 8.5l.94-2.06 2.06-.94-2.06-.94L8.5 2.5l-.94 2.06-2.06.94zm10 10l.94 2.06.94-2.06 2.06-.94-2.06-.94-.94-2.06-.94 2.06-2.06.94z\"/><path d=\"M17.41 7.96l-1.37-1.37c-.4-.4-.92-.59-1.43-.59-.52 0-1.04.2-1.43.59L10.3 9.45l-7.72 7.72c-.78.78-.78 2.05 0 2.83L4 21.41c.39.39.9.59 1.41.59.51 0 1.02-.2 1.41-.59l7.78-7.78 2.81-2.81c.8-.78.8-2.07 0-2.86zM5.41 20L4 18.59l7.72-7.72 1.47 1.35L5.41 20z\"/>\n",
              "  </svg>\n",
              "      </button>\n",
              "      \n",
              "  <style>\n",
              "    .colab-df-container {\n",
              "      display:flex;\n",
              "      flex-wrap:wrap;\n",
              "      gap: 12px;\n",
              "    }\n",
              "\n",
              "    .colab-df-convert {\n",
              "      background-color: #E8F0FE;\n",
              "      border: none;\n",
              "      border-radius: 50%;\n",
              "      cursor: pointer;\n",
              "      display: none;\n",
              "      fill: #1967D2;\n",
              "      height: 32px;\n",
              "      padding: 0 0 0 0;\n",
              "      width: 32px;\n",
              "    }\n",
              "\n",
              "    .colab-df-convert:hover {\n",
              "      background-color: #E2EBFA;\n",
              "      box-shadow: 0px 1px 2px rgba(60, 64, 67, 0.3), 0px 1px 3px 1px rgba(60, 64, 67, 0.15);\n",
              "      fill: #174EA6;\n",
              "    }\n",
              "\n",
              "    [theme=dark] .colab-df-convert {\n",
              "      background-color: #3B4455;\n",
              "      fill: #D2E3FC;\n",
              "    }\n",
              "\n",
              "    [theme=dark] .colab-df-convert:hover {\n",
              "      background-color: #434B5C;\n",
              "      box-shadow: 0px 1px 3px 1px rgba(0, 0, 0, 0.15);\n",
              "      filter: drop-shadow(0px 1px 2px rgba(0, 0, 0, 0.3));\n",
              "      fill: #FFFFFF;\n",
              "    }\n",
              "  </style>\n",
              "\n",
              "      <script>\n",
              "        const buttonEl =\n",
              "          document.querySelector('#df-2e6df5d8-1227-412a-900a-58cc9c47834f button.colab-df-convert');\n",
              "        buttonEl.style.display =\n",
              "          google.colab.kernel.accessAllowed ? 'block' : 'none';\n",
              "\n",
              "        async function convertToInteractive(key) {\n",
              "          const element = document.querySelector('#df-2e6df5d8-1227-412a-900a-58cc9c47834f');\n",
              "          const dataTable =\n",
              "            await google.colab.kernel.invokeFunction('convertToInteractive',\n",
              "                                                     [key], {});\n",
              "          if (!dataTable) return;\n",
              "\n",
              "          const docLinkHtml = 'Like what you see? Visit the ' +\n",
              "            '<a target=\"_blank\" href=https://colab.research.google.com/notebooks/data_table.ipynb>data table notebook</a>'\n",
              "            + ' to learn more about interactive tables.';\n",
              "          element.innerHTML = '';\n",
              "          dataTable['output_type'] = 'display_data';\n",
              "          await google.colab.output.renderOutput(dataTable, element);\n",
              "          const docLink = document.createElement('div');\n",
              "          docLink.innerHTML = docLinkHtml;\n",
              "          element.appendChild(docLink);\n",
              "        }\n",
              "      </script>\n",
              "    </div>\n",
              "  </div>\n",
              "  "
            ]
          },
          "metadata": {},
          "execution_count": 89
        }
      ],
      "source": [
        "Prod = df.groupby(by = df.State_Name)['Production','State_Name'].sum().reset_index().sort_values(by = 'Production', ascending = False).head(10)\n",
        "Prod"
      ]
    },
    {
      "cell_type": "markdown",
      "metadata": {
        "id": "REj_vYIR8zkM"
      },
      "source": [
        "* Kerala is the Top State in production as we can see in the above\n",
        "\n"
      ]
    },
    {
      "cell_type": "code",
      "execution_count": 90,
      "metadata": {
        "colab": {
          "base_uri": "https://localhost:8080/",
          "height": 979
        },
        "id": "h1zLpsFl8mt8",
        "outputId": "c4e856f8-b39c-4220-e5eb-7cad938cc03d"
      },
      "outputs": [
        {
          "output_type": "display_data",
          "data": {
            "text/plain": [
              "<Figure size 1500x1500 with 1 Axes>"
            ],
            "image/png": "[encoded data removed]"
          },
          "metadata": {}
        }
      ],
      "source": [
        "plt.figure(figsize= (15,15))\n",
        "sns.barplot(x=df['Production'],y= df[\"State_Name\"], orient='h');"
      ]
    },
    {
      "cell_type": "code",
      "execution_count": 91,
      "metadata": {
        "colab": {
          "base_uri": "https://localhost:8080/",
          "height": 300
        },
        "id": "CN_diGfn9Sgb",
        "outputId": "2640cb39-71b3-42f5-cc3a-2adbb5746ddd"
      },
      "outputs": [
        {
          "output_type": "execute_result",
          "data": {
            "text/plain": [
              "           Crop_Year          Area    Production\n",
              "count  242361.000000  2.423610e+05  2.423610e+05\n",
              "mean     2005.625773  1.216741e+04  5.825034e+05\n",
              "std         4.958285  5.085744e+04  1.706581e+07\n",
              "min      1997.000000  1.000000e-01  0.000000e+00\n",
              "25%      2002.000000  8.700000e+01  8.800000e+01\n",
              "50%      2006.000000  6.030000e+02  7.290000e+02\n",
              "75%      2010.000000  4.545000e+03  7.023000e+03\n",
              "max      2015.000000  8.580100e+06  1.250800e+09"
            ],
            "text/html": [
              "\n",
              "  <div id=\"df-2164e85d-01fe-432d-9ba1-e91f8b59602e\">\n",
              "    <div class=\"colab-df-container\">\n",
              "      <div>\n",
              "<style scoped>\n",
              "    .dataframe tbody tr th:only-of-type {\n",
              "        vertical-align: middle;\n",
              "    }\n",
              "\n",
              "    .dataframe tbody tr th {\n",
              "        vertical-align: top;\n",
              "    }\n",
              "\n",
              "    .dataframe thead th {\n",
              "        text-align: right;\n",
              "    }\n",
              "</style>\n",
              "<table border=\"1\" class=\"dataframe\">\n",
              "  <thead>\n",
              "    <tr style=\"text-align: right;\">\n",
              "      <th></th>\n",
              "      <th>Crop_Year</th>\n",
              "      <th>Area</th>\n",
              "      <th>Production</th>\n",
              "    </tr>\n",
              "  </thead>\n",
              "  <tbody>\n",
              "    <tr>\n",
              "      <th>count</th>\n",
              "      <td>242361.000000</td>\n",
              "      <td>2.423610e+05</td>\n",
              "      <td>2.423610e+05</td>\n",
              "    </tr>\n",
              "    <tr>\n",
              "      <th>mean</th>\n",
              "      <td>2005.625773</td>\n",
              "      <td>1.216741e+04</td>\n",
              "      <td>5.825034e+05</td>\n",
              "    </tr>\n",
              "    <tr>\n",
              "      <th>std</th>\n",
              "      <td>4.958285</td>\n",
              "      <td>5.085744e+04</td>\n",
              "      <td>1.706581e+07</td>\n",
              "    </tr>\n",
              "    <tr>\n",
              "      <th>min</th>\n",
              "      <td>1997.000000</td>\n",
              "      <td>1.000000e-01</td>\n",
              "      <td>0.000000e+00</td>\n",
              "    </tr>\n",
              "    <tr>\n",
              "      <th>25%</th>\n",
              "      <td>2002.000000</td>\n",
              "      <td>8.700000e+01</td>\n",
              "      <td>8.800000e+01</td>\n",
              "    </tr>\n",
              "    <tr>\n",
              "      <th>50%</th>\n",
              "      <td>2006.000000</td>\n",
              "      <td>6.030000e+02</td>\n",
              "      <td>7.290000e+02</td>\n",
              "    </tr>\n",
              "    <tr>\n",
              "      <th>75%</th>\n",
              "      <td>2010.000000</td>\n",
              "      <td>4.545000e+03</td>\n",
              "      <td>7.023000e+03</td>\n",
              "    </tr>\n",
              "    <tr>\n",
              "      <th>max</th>\n",
              "      <td>2015.000000</td>\n",
              "      <td>8.580100e+06</td>\n",
              "      <td>1.250800e+09</td>\n",
              "    </tr>\n",
              "  </tbody>\n",
              "</table>\n",
              "</div>\n",
              "      <button class=\"colab-df-convert\" onclick=\"convertToInteractive('df-2164e85d-01fe-432d-9ba1-e91f8b59602e')\"\n",
              "              title=\"Convert this dataframe to an interactive table.\"\n",
              "              style=\"display:none;\">\n",
              "        \n",
              "  <svg xmlns=\"http://www.w3.org/2000/svg\" height=\"24px\"viewBox=\"0 0 24 24\"\n",
              "       width=\"24px\">\n",
              "    <path d=\"M0 0h24v24H0V0z\" fill=\"none\"/>\n",
              "    <path d=\"M18.56 5.44l.94 2.06.94-2.06 2.06-.94-2.06-.94-.94-2.06-.94 2.06-2.06.94zm-11 1L8.5 8.5l.94-2.06 2.06-.94-2.06-.94L8.5 2.5l-.94 2.06-2.06.94zm10 10l.94 2.06.94-2.06 2.06-.94-2.06-.94-.94-2.06-.94 2.06-2.06.94z\"/><path d=\"M17.41 7.96l-1.37-1.37c-.4-.4-.92-.59-1.43-.59-.52 0-1.04.2-1.43.59L10.3 9.45l-7.72 7.72c-.78.78-.78 2.05 0 2.83L4 21.41c.39.39.9.59 1.41.59.51 0 1.02-.2 1.41-.59l7.78-7.78 2.81-2.81c.8-.78.8-2.07 0-2.86zM5.41 20L4 18.59l7.72-7.72 1.47 1.35L5.41 20z\"/>\n",
              "  </svg>\n",
              "      </button>\n",
              "      \n",
              "  <style>\n",
              "    .colab-df-container {\n",
              "      display:flex;\n",
              "      flex-wrap:wrap;\n",
              "      gap: 12px;\n",
              "    }\n",
              "\n",
              "    .colab-df-convert {\n",
              "      background-color: #E8F0FE;\n",
              "      border: none;\n",
              "      border-radius: 50%;\n",
              "      cursor: pointer;\n",
              "      display: none;\n",
              "      fill: #1967D2;\n",
              "      height: 32px;\n",
              "      padding: 0 0 0 0;\n",
              "      width: 32px;\n",
              "    }\n",
              "\n",
              "    .colab-df-convert:hover {\n",
              "      background-color: #E2EBFA;\n",
              "      box-shadow: 0px 1px 2px rgba(60, 64, 67, 0.3), 0px 1px 3px 1px rgba(60, 64, 67, 0.15);\n",
              "      fill: #174EA6;\n",
              "    }\n",
              "\n",
              "    [theme=dark] .colab-df-convert {\n",
              "      background-color: #3B4455;\n",
              "      fill: #D2E3FC;\n",
              "    }\n",
              "\n",
              "    [theme=dark] .colab-df-convert:hover {\n",
              "      background-color: #434B5C;\n",
              "      box-shadow: 0px 1px 3px 1px rgba(0, 0, 0, 0.15);\n",
              "      filter: drop-shadow(0px 1px 2px rgba(0, 0, 0, 0.3));\n",
              "      fill: #FFFFFF;\n",
              "    }\n",
              "  </style>\n",
              "\n",
              "      <script>\n",
              "        const buttonEl =\n",
              "          document.querySelector('#df-2164e85d-01fe-432d-9ba1-e91f8b59602e button.colab-df-convert');\n",
              "        buttonEl.style.display =\n",
              "          google.colab.kernel.accessAllowed ? 'block' : 'none';\n",
              "\n",
              "        async function convertToInteractive(key) {\n",
              "          const element = document.querySelector('#df-2164e85d-01fe-432d-9ba1-e91f8b59602e');\n",
              "          const dataTable =\n",
              "            await google.colab.kernel.invokeFunction('convertToInteractive',\n",
              "                                                     [key], {});\n",
              "          if (!dataTable) return;\n",
              "\n",
              "          const docLinkHtml = 'Like what you see? Visit the ' +\n",
              "            '<a target=\"_blank\" href=https://colab.research.google.com/notebooks/data_table.ipynb>data table notebook</a>'\n",
              "            + ' to learn more about interactive tables.';\n",
              "          element.innerHTML = '';\n",
              "          dataTable['output_type'] = 'display_data';\n",
              "          await google.colab.output.renderOutput(dataTable, element);\n",
              "          const docLink = document.createElement('div');\n",
              "          docLink.innerHTML = docLinkHtml;\n",
              "          element.appendChild(docLink);\n",
              "        }\n",
              "      </script>\n",
              "    </div>\n",
              "  </div>\n",
              "  "
            ]
          },
          "metadata": {},
          "execution_count": 91
        }
      ],
      "source": [
        "df.describe()"
      ]
    },
    {
      "cell_type": "code",
      "execution_count": 92,
      "metadata": {
        "id": "Nr9Jwj4Y-xe3"
      },
      "outputs": [],
      "source": [
        "#Zone-Wise Production - 1997-2014\n",
        "north_india = ['Jammu and Kashmir', 'Punjab', 'Himachal Pradesh', 'Haryana', 'Uttarakhand', 'Uttar Pradesh', 'Chandigarh']\n",
        "east_india = ['Bihar', 'Odisha', 'Jharkhand', 'West Bengal']\n",
        "south_india = ['Andhra Pradesh', 'Karnataka', 'Kerala' ,'Tamil Nadu', 'Telangana']\n",
        "west_india = ['Rajasthan' , 'Gujarat', 'Goa','Maharashtra']\n",
        "central_india = ['Madhya Pradesh', 'Chhattisgarh']\n",
        "north_east_india = ['Assam', 'Sikkim', 'Nagaland', 'Meghalaya', 'Manipur', 'Mizoram', 'Tripura', 'Arunachal Pradesh']\n",
        "ut_india = ['Andaman and Nicobar Islands', 'Dadra and Nagar Haveli', 'Puducherry']"
      ]
    },
    {
      "cell_type": "code",
      "execution_count": 93,
      "metadata": {
        "colab": {
          "base_uri": "https://localhost:8080/"
        },
        "id": "wjYoj5tl-0p_",
        "outputId": "8ad57765-2a62-457e-d064-17a5db4becb2"
      },
      "outputs": [
        {
          "output_type": "execute_result",
          "data": {
            "text/plain": [
              "array(['Union Terr', 'South Zone', 'NE Zone', 'East Zone', 'North Zone',\n",
              "       'Central Zone', 'West Zone'], dtype=object)"
            ]
          },
          "metadata": {},
          "execution_count": 93
        }
      ],
      "source": [
        "def get_zonal_names(row):\n",
        "    if row['State_Name'].strip() in north_india:\n",
        "        val = 'North Zone'\n",
        "    elif row['State_Name'].strip()  in south_india:\n",
        "        val = 'South Zone'\n",
        "    elif row['State_Name'].strip()  in east_india:\n",
        "        val = 'East Zone'\n",
        "    elif row['State_Name'].strip()  in west_india:\n",
        "        val = 'West Zone'\n",
        "    elif row['State_Name'].strip()  in central_india:\n",
        "        val = 'Central Zone'\n",
        "    elif row['State_Name'].strip()  in north_east_india:\n",
        "        val = 'NE Zone'\n",
        "    elif row['State_Name'].strip()  in ut_india:\n",
        "        val = 'Union Terr'\n",
        "    else:\n",
        "        val = 'No Value'\n",
        "    return val\n",
        "\n",
        "df['Zones'] = df.apply(get_zonal_names, axis=1)\n",
        "df['Zones'].unique()"
      ]
    },
    {
      "cell_type": "code",
      "execution_count": 94,
      "metadata": {
        "colab": {
          "base_uri": "https://localhost:8080/"
        },
        "id": "8Ndgq-Iz-8oI",
        "outputId": "2ed575c1-52a7-4612-a499-ee085060ea8e"
      },
      "outputs": [
        {
          "output_type": "execute_result",
          "data": {
            "text/plain": [
              "South Zone      53500\n",
              "North Zone      49874\n",
              "East Zone       43261\n",
              "West Zone       33134\n",
              "Central Zone    32972\n",
              "NE Zone         28284\n",
              "Union Terr       1336\n",
              "Name: Zones, dtype: int64"
            ]
          },
          "metadata": {},
          "execution_count": 94
        }
      ],
      "source": [
        "df.Zones.value_counts()\n"
      ]
    },
    {
      "cell_type": "code",
      "source": [
        "crop=df['Crop']\n",
        "def cat_crop(crop):\n",
        "    for i in ['Rice','Maize','Wheat','Barley','Varagu','Other Cereals & Millets','Ragi','Small millets','Bajra','Jowar', 'Paddy','Total foodgrain','Jobster']:\n",
        "        if crop==i:\n",
        "            return 'Cereal'\n",
        "    for i in ['Moong','Urad','Arhar/Tur','Peas & beans','Masoor',\n",
        "              'Other Kharif pulses','other misc. pulses','Ricebean (nagadal)',\n",
        "              'Rajmash Kholar','Lentil','Samai','Blackgram','Korra','Cowpea(Lobia)',\n",
        "              'Other  Rabi pulses','Other Kharif pulses','Peas & beans (Pulses)','Pulses total','Gram']:\n",
        "        if crop==i:\n",
        "            return 'Pulses'\n",
        "    for i in ['Peach','Apple','Litchi','Pear','Plums','Ber','Sapota','Lemon','Pome Granet',\n",
        "               'Other Citrus Fruit','Water Melon','Jack Fruit','Grapes','Pineapple','Orange',\n",
        "               'Pome Fruit','Citrus Fruit','Other Fresh Fruits','Mango','Papaya','Coconut','Banana']:\n",
        "        if crop==i:\n",
        "            return 'Fruits'\n",
        "    for i in ['Bean','Lab-Lab','Moth','Guar seed','Soyabean','Horse-gram']:\n",
        "        if crop==i:\n",
        "            return 'Beans'\n",
        "    for i in ['Turnip','Peas','Beet Root','Carrot','Yam','Ribed Guard','Ash Gourd ','Pump Kin','Redish','Snak Guard','Bottle Gourd',\n",
        "              'Bitter Gourd','Cucumber','Drum Stick','Cauliflower','Beans & Mutter(Vegetable)','Cabbage',\n",
        "              'Bhindi','Tomato','Brinjal','Khesari','Sweet potato','Potato','Onion','Tapioca','Colocosia']:\n",
        "              if crop==i:\n",
        "                return 'Vegetables'\n",
        "    for i in ['Perilla','Ginger','Cardamom','Black pepper','Dry ginger','Garlic','Coriander','Turmeric','Dry chillies','Cond-spcs other']:\n",
        "        if crop==i:\n",
        "            return 'spices'\n",
        "    for i in ['other fibres','Kapas','Jute & mesta','Jute','Mesta','Cotton(lint)','Sannhamp']:\n",
        "        if crop==i:\n",
        "            return 'fibres'\n",
        "    for i in ['Arcanut (Processed)','Atcanut (Raw)','Cashewnut Processed','Cashewnut Raw','Cashewnut','Arecanut','Groundnut']:\n",
        "        if crop==i:\n",
        "            return 'Nuts'\n",
        "    for i in ['other oilseeds','Safflower','Niger seed','Castor seed','Linseed','Sunflower','Rapeseed &Mustard','Sesamum','Oilseeds total']:\n",
        "        if crop==i:\n",
        "            return 'oilseeds'\n",
        "    for i in ['Tobacco','Coffee','Tea','Sugarcane','Rubber']:\n",
        "        if crop==i:\n",
        "            return 'Commercial'\n",
        "\n",
        "df['cat_crop']=df['Crop'].apply(cat_crop)"
      ],
      "metadata": {
        "id": "MwDpT-asLjv8"
      },
      "execution_count": 95,
      "outputs": []
    },
    {
      "cell_type": "code",
      "source": [
        "df[\"cat_crop\"].value_counts()"
      ],
      "metadata": {
        "colab": {
          "base_uri": "https://localhost:8080/"
        },
        "id": "QIK0cXysLjjQ",
        "outputId": "4aebd8a4-e370-4708-d311-8c94fa00e63a"
      },
      "execution_count": 96,
      "outputs": [
        {
          "output_type": "execute_result",
          "data": {
            "text/plain": [
              "Cereal        63283\n",
              "Pulses        40898\n",
              "oilseeds      33801\n",
              "Vegetables    23154\n",
              "spices        21638\n",
              "Nuts          11472\n",
              "Commercial    10561\n",
              "fibres         9785\n",
              "Beans          9115\n",
              "Fruits         6153\n",
              "Name: cat_crop, dtype: int64"
            ]
          },
          "metadata": {},
          "execution_count": 96
        }
      ]
    },
    {
      "cell_type": "code",
      "execution_count": 97,
      "metadata": {
        "id": "2flm5ToN_ESY"
      },
      "outputs": [],
      "source": [
        "data_explore = df.copy()"
      ]
    },
    {
      "cell_type": "markdown",
      "source": [
        "##Zonal distribution of crops:"
      ],
      "metadata": {
        "id": "MxRhS1VJL5ON"
      }
    },
    {
      "cell_type": "code",
      "execution_count": 98,
      "metadata": {
        "colab": {
          "base_uri": "https://localhost:8080/",
          "height": 810
        },
        "id": "ftgmaC_U_iwL",
        "outputId": "a82f7173-195e-4db5-de9c-a3b3813f9847"
      },
      "outputs": [
        {
          "output_type": "execute_result",
          "data": {
            "text/plain": [
              "Text(0.5, 1.0, 'Zone-Wise Production: Total')"
            ]
          },
          "metadata": {},
          "execution_count": 98
        },
        {
          "output_type": "display_data",
          "data": {
            "text/plain": [
              "<Figure size 1500x1000 with 1 Axes>"
            ],
            "image/png": "[encoded data removed]"
          },
          "metadata": {}
        }
      ],
      "source": [
        "fig, ax = plt.subplots(figsize=(15,10))\n",
        "sns.barplot(x = data_explore.Zones.sort_values(ascending=True), y = data_explore.Production)\n",
        "plt.yscale('log')\n",
        "plt.title('Zone-Wise Production: Total')"
      ]
    },
    {
      "cell_type": "markdown",
      "metadata": {
        "id": "1hH6-cFdAsv-"
      },
      "source": [
        "* South Zone has maximum production"
      ]
    },
    {
      "cell_type": "code",
      "execution_count": 99,
      "metadata": {
        "colab": {
          "base_uri": "https://localhost:8080/",
          "height": 810
        },
        "id": "2NX4ujsF_l9R",
        "outputId": "3494df91-5637-42e6-92ce-021fbfd1d61c"
      },
      "outputs": [
        {
          "output_type": "execute_result",
          "data": {
            "text/plain": [
              "Text(0.5, 1.0, 'Southern-Zone Production')"
            ]
          },
          "metadata": {},
          "execution_count": 99
        },
        {
          "output_type": "display_data",
          "data": {
            "text/plain": [
              "<Figure size 1500x1000 with 1 Axes>"
            ],
            "image/png": "[encoded data removed]"
          },
          "metadata": {}
        }
      ],
      "source": [
        "south_zone =  data_explore[(data_explore[\"Zones\"] == 'South Zone')]\n",
        "fig, ax = plt.subplots(figsize=(15,10))\n",
        "sns.barplot(x =south_zone.State_Name, y = south_zone.Production,errwidth=0)\n",
        "plt.yscale('log')\n",
        "plt.title('Southern-Zone Production')"
      ]
    },
    {
      "cell_type": "markdown",
      "metadata": {
        "id": "E2Ge60SnBMJl"
      },
      "source": [
        "* In South zone, Kerala stata has more dominant in production"
      ]
    },
    {
      "cell_type": "markdown",
      "metadata": {
        "id": "TUzTq9ggBg4J"
      },
      "source": [
        "###Yearwise Production Status"
      ]
    },
    {
      "cell_type": "code",
      "execution_count": 100,
      "metadata": {
        "colab": {
          "base_uri": "https://localhost:8080/",
          "height": 504
        },
        "id": "5noj_QGFA9YB",
        "outputId": "26ee5514-2a52-4772-9659-2b73ccd6a890"
      },
      "outputs": [
        {
          "output_type": "execute_result",
          "data": {
            "text/plain": [
              "<Axes: xlabel='Crop_Year'>"
            ]
          },
          "metadata": {},
          "execution_count": 100
        },
        {
          "output_type": "display_data",
          "data": {
            "text/plain": [
              "<Figure size 640x480 with 1 Axes>"
            ],
            "image/png": "[encoded data removed]"
          },
          "metadata": {}
        }
      ],
      "source": [
        "plt.tick_params(labelsize=10)\n",
        "data_explore.groupby(\"Crop_Year\")[\"Production\"].agg(\"sum\").plot.bar()"
      ]
    },
    {
      "cell_type": "markdown",
      "metadata": {
        "id": "-QRd6yXCBw11"
      },
      "source": [
        "###Season wise Production Status:"
      ]
    },
    {
      "cell_type": "code",
      "execution_count": 101,
      "metadata": {
        "colab": {
          "base_uri": "https://localhost:8080/",
          "height": 806
        },
        "id": "h6DjIYlaBlhX",
        "outputId": "389ef5c6-9c07-4c3d-d7d0-3ff773901023"
      },
      "outputs": [
        {
          "output_type": "execute_result",
          "data": {
            "text/plain": [
              "Text(0.5, 1.0, 'Seasonal Crops vs Production')"
            ]
          },
          "metadata": {},
          "execution_count": 101
        },
        {
          "output_type": "display_data",
          "data": {
            "text/plain": [
              "<Figure size 1500x1000 with 1 Axes>"
            ],
            "image/png": "[encoded data removed]"
          },
          "metadata": {}
        }
      ],
      "source": [
        "#Season vs Production\n",
        "df_season=data_explore.copy()\n",
        "season = df_season.groupby(by='Season')['Production'].sum().reset_index().sort_values(by='Production', ascending=False).head(10)\n",
        "season\n",
        "fig, ax = plt.subplots(figsize=(15,10))\n",
        "sns.barplot(x = season.Season, y = season.Production,errwidth=0)\n",
        "plt.yscale('log')\n",
        "plt.title('Seasonal Crops vs Production')"
      ]
    },
    {
      "cell_type": "markdown",
      "metadata": {
        "id": "2axAz24ACIf3"
      },
      "source": [
        "###Crop wise Production plot describing production values for all crop types."
      ]
    },
    {
      "cell_type": "code",
      "execution_count": 102,
      "metadata": {
        "colab": {
          "base_uri": "https://localhost:8080/",
          "height": 695
        },
        "id": "wCLUY1f4B1Jl",
        "outputId": "7d3765e6-0a13-46c5-f768-2104487a4d2c"
      },
      "outputs": [
        {
          "output_type": "display_data",
          "data": {
            "text/plain": [
              "<Figure size 1500x800 with 1 Axes>"
            ],
            "image/png": "[encoded data removed]"
          },
          "metadata": {}
        }
      ],
      "source": [
        "plt.figure(figsize=(15,8))\n",
        "plt.tick_params(labelsize=10)\n",
        "data_explore.groupby(\"cat_crop\")[\"Production\"].agg(\"count\").plot.bar()\n",
        "plt.show()"
      ]
    },
    {
      "cell_type": "markdown",
      "metadata": {
        "id": "qXru_XLYCY5K"
      },
      "source": [
        "### Different proportion of Crop Categories for India:"
      ]
    },
    {
      "cell_type": "code",
      "execution_count": 103,
      "metadata": {
        "colab": {
          "base_uri": "https://localhost:8080/",
          "height": 975
        },
        "id": "J5xyITLoCVCb",
        "outputId": "27655c53-d188-45fe-aa5f-c161d634b7be"
      },
      "outputs": [
        {
          "output_type": "display_data",
          "data": {
            "text/plain": [
              "<Figure size 640x480 with 1 Axes>"
            ],
            "image/png": "[encoded data removed]"
          },
          "metadata": {}
        }
      ],
      "source": [
        "df1=data_explore[\"cat_crop\"].value_counts()\n",
        "df1.plot(radius=3,kind=\"pie\",autopct=\"%1.1f\",pctdistance=0.6)\n",
        "plt.tick_params(labelsize=5)"
      ]
    },
    {
      "cell_type": "code",
      "execution_count": 104,
      "metadata": {
        "colab": {
          "base_uri": "https://localhost:8080/",
          "height": 1000
        },
        "id": "onKkffImCd5N",
        "outputId": "eed4cf42-2f0d-426e-f600-1828dedac7e9"
      },
      "outputs": [
        {
          "output_type": "execute_result",
          "data": {
            "text/plain": [
              "cat_crop                     Beans  Cereal  Commercial  Fruits  Nuts  Pulses  \\\n",
              "State_Name                                                                     \n",
              "Andaman and Nicobar Islands      0      20          15      16    37       9   \n",
              "Andhra Pradesh                 386    2264         474     502   674    1336   \n",
              "Arunachal Pradesh               26    1021         168       0    26      67   \n",
              "Assam                            0    2952         854     920   400    2234   \n",
              "Bihar                          280    6108         756     226   130    3731   \n",
              "Chandigarh                       0      39           0       0     0      14   \n",
              "Chhattisgarh                   646    1805         316     264   261    2087   \n",
              "Dadra and Nagar Haveli           0     116          12       9     9      64   \n",
              "Goa                              0      62          22      16    47      32   \n",
              "Gujarat                        403    2466         372     157   683    1521   \n",
              "Haryana                        108    1427         259      52   126     860   \n",
              "Himachal Pradesh               179     726          67       0    54     530   \n",
              "Jammu and Kashmir               12     562          42      24     7     307   \n",
              "Jharkhand                        0     575          16       0     0     304   \n",
              "Karnataka                     1096    5295         615     598  1470    2776   \n",
              "Kerala                           3     819         236     437   536      13   \n",
              "Madhya Pradesh                 962    5115         826     659   768    3993   \n",
              "Maharashtra                    477    4009         458      83   868    2326   \n",
              "Manipur                         31     151          40     228     4     160   \n",
              "Meghalaya                      113     606         182     162   143     314   \n",
              "Mizoram                         42     230         123       0    15     213   \n",
              "Nagaland                       211    1054         160       0   144     873   \n",
              "Odisha                         629    3871         607       0  1156    1760   \n",
              "Puducherry                       0     198          30      73    98     101   \n",
              "Punjab                         104    1123         216       0    75     728   \n",
              "Rajasthan                      871    2634         518     257   444    2174   \n",
              "Sikkim                          72     391           0       8     0     136   \n",
              "Tamil Nadu                     479    2680         623     992  1076    1466   \n",
              "Telangana                      259    1365         250     201   338     882   \n",
              "Tripura                          0     240          80       0   119     469   \n",
              "Uttar Pradesh                 1112    9719        1741     269   958    6549   \n",
              "Uttarakhand                    360    1423         127       0    76    1236   \n",
              "West Bengal                    254    2217         356       0   730    1633   \n",
              "\n",
              "cat_crop                     Vegetables  fibres  oilseeds  spices  \n",
              "State_Name                                                         \n",
              "Andaman and Nicobar Islands          20       0        11      52  \n",
              "Andhra Pradesh                     1046     333      1101     802  \n",
              "Arunachal Pradesh                   257       0       343     637  \n",
              "Assam                              1781    1284      2097    1338  \n",
              "Bihar                              1775     924      2504    1396  \n",
              "Chandigarh                           26       0         7       0  \n",
              "Chhattisgarh                       1143     535      1496    1288  \n",
              "Dadra and Nagar Haveli                0      13        30       1  \n",
              "Goa                                   0       0         0      12  \n",
              "Gujarat                             473     327      1029     512  \n",
              "Haryana                             463     257       543     248  \n",
              "Himachal Pradesh                    214      37       236     345  \n",
              "Jammu and Kashmir                   196      44       233     115  \n",
              "Jharkhand                           247       0       124       0  \n",
              "Karnataka                          1763     605      3135    2588  \n",
              "Kerala                              636      12       168     863  \n",
              "Madhya Pradesh                     2738     922      3281    2739  \n",
              "Maharashtra                          56     465      3189       0  \n",
              "Manipur                             347      12        49     226  \n",
              "Meghalaya                           399     177       329     442  \n",
              "Mizoram                              96      64       143       0  \n",
              "Nagaland                            302     197       718     131  \n",
              "Odisha                              909     284      2335     912  \n",
              "Puducherry                           84      33        51      89  \n",
              "Punjab                                0     186       496       0  \n",
              "Rajasthan                          1048     672      1713    1256  \n",
              "Sikkim                                8       0        91       0  \n",
              "Tamil Nadu                         1827     556      1235    1442  \n",
              "Telangana                           416     191       774     576  \n",
              "Tripura                              20     220       144       0  \n",
              "Uttar Pradesh                      3734     724      4028    2529  \n",
              "Uttarakhand                         511       1       626     407  \n",
              "West Bengal                         619     710      1542     692  "
            ],
            "text/html": [
              "\n",
              "  <div id=\"df-1da80157-2529-4689-a8e0-18a0d5571c88\">\n",
              "    <div class=\"colab-df-container\">\n",
              "      <div>\n",
              "<style scoped>\n",
              "    .dataframe tbody tr th:only-of-type {\n",
              "        vertical-align: middle;\n",
              "    }\n",
              "\n",
              "    .dataframe tbody tr th {\n",
              "        vertical-align: top;\n",
              "    }\n",
              "\n",
              "    .dataframe thead th {\n",
              "        text-align: right;\n",
              "    }\n",
              "</style>\n",
              "<table border=\"1\" class=\"dataframe\">\n",
              "  <thead>\n",
              "    <tr style=\"text-align: right;\">\n",
              "      <th>cat_crop</th>\n",
              "      <th>Beans</th>\n",
              "      <th>Cereal</th>\n",
              "      <th>Commercial</th>\n",
              "      <th>Fruits</th>\n",
              "      <th>Nuts</th>\n",
              "      <th>Pulses</th>\n",
              "      <th>Vegetables</th>\n",
              "      <th>fibres</th>\n",
              "      <th>oilseeds</th>\n",
              "      <th>spices</th>\n",
              "    </tr>\n",
              "    <tr>\n",
              "      <th>State_Name</th>\n",
              "      <th></th>\n",
              "      <th></th>\n",
              "      <th></th>\n",
              "      <th></th>\n",
              "      <th></th>\n",
              "      <th></th>\n",
              "      <th></th>\n",
              "      <th></th>\n",
              "      <th></th>\n",
              "      <th></th>\n",
              "    </tr>\n",
              "  </thead>\n",
              "  <tbody>\n",
              "    <tr>\n",
              "      <th>Andaman and Nicobar Islands</th>\n",
              "      <td>0</td>\n",
              "      <td>20</td>\n",
              "      <td>15</td>\n",
              "      <td>16</td>\n",
              "      <td>37</td>\n",
              "      <td>9</td>\n",
              "      <td>20</td>\n",
              "      <td>0</td>\n",
              "      <td>11</td>\n",
              "      <td>52</td>\n",
              "    </tr>\n",
              "    <tr>\n",
              "      <th>Andhra Pradesh</th>\n",
              "      <td>386</td>\n",
              "      <td>2264</td>\n",
              "      <td>474</td>\n",
              "      <td>502</td>\n",
              "      <td>674</td>\n",
              "      <td>1336</td>\n",
              "      <td>1046</td>\n",
              "      <td>333</td>\n",
              "      <td>1101</td>\n",
              "      <td>802</td>\n",
              "    </tr>\n",
              "    <tr>\n",
              "      <th>Arunachal Pradesh</th>\n",
              "      <td>26</td>\n",
              "      <td>1021</td>\n",
              "      <td>168</td>\n",
              "      <td>0</td>\n",
              "      <td>26</td>\n",
              "      <td>67</td>\n",
              "      <td>257</td>\n",
              "      <td>0</td>\n",
              "      <td>343</td>\n",
              "      <td>637</td>\n",
              "    </tr>\n",
              "    <tr>\n",
              "      <th>Assam</th>\n",
              "      <td>0</td>\n",
              "      <td>2952</td>\n",
              "      <td>854</td>\n",
              "      <td>920</td>\n",
              "      <td>400</td>\n",
              "      <td>2234</td>\n",
              "      <td>1781</td>\n",
              "      <td>1284</td>\n",
              "      <td>2097</td>\n",
              "      <td>1338</td>\n",
              "    </tr>\n",
              "    <tr>\n",
              "      <th>Bihar</th>\n",
              "      <td>280</td>\n",
              "      <td>6108</td>\n",
              "      <td>756</td>\n",
              "      <td>226</td>\n",
              "      <td>130</td>\n",
              "      <td>3731</td>\n",
              "      <td>1775</td>\n",
              "      <td>924</td>\n",
              "      <td>2504</td>\n",
              "      <td>1396</td>\n",
              "    </tr>\n",
              "    <tr>\n",
              "      <th>Chandigarh</th>\n",
              "      <td>0</td>\n",
              "      <td>39</td>\n",
              "      <td>0</td>\n",
              "      <td>0</td>\n",
              "      <td>0</td>\n",
              "      <td>14</td>\n",
              "      <td>26</td>\n",
              "      <td>0</td>\n",
              "      <td>7</td>\n",
              "      <td>0</td>\n",
              "    </tr>\n",
              "    <tr>\n",
              "      <th>Chhattisgarh</th>\n",
              "      <td>646</td>\n",
              "      <td>1805</td>\n",
              "      <td>316</td>\n",
              "      <td>264</td>\n",
              "      <td>261</td>\n",
              "      <td>2087</td>\n",
              "      <td>1143</td>\n",
              "      <td>535</td>\n",
              "      <td>1496</td>\n",
              "      <td>1288</td>\n",
              "    </tr>\n",
              "    <tr>\n",
              "      <th>Dadra and Nagar Haveli</th>\n",
              "      <td>0</td>\n",
              "      <td>116</td>\n",
              "      <td>12</td>\n",
              "      <td>9</td>\n",
              "      <td>9</td>\n",
              "      <td>64</td>\n",
              "      <td>0</td>\n",
              "      <td>13</td>\n",
              "      <td>30</td>\n",
              "      <td>1</td>\n",
              "    </tr>\n",
              "    <tr>\n",
              "      <th>Goa</th>\n",
              "      <td>0</td>\n",
              "      <td>62</td>\n",
              "      <td>22</td>\n",
              "      <td>16</td>\n",
              "      <td>47</td>\n",
              "      <td>32</td>\n",
              "      <td>0</td>\n",
              "      <td>0</td>\n",
              "      <td>0</td>\n",
              "      <td>12</td>\n",
              "    </tr>\n",
              "    <tr>\n",
              "      <th>Gujarat</th>\n",
              "      <td>403</td>\n",
              "      <td>2466</td>\n",
              "      <td>372</td>\n",
              "      <td>157</td>\n",
              "      <td>683</td>\n",
              "      <td>1521</td>\n",
              "      <td>473</td>\n",
              "      <td>327</td>\n",
              "      <td>1029</td>\n",
              "      <td>512</td>\n",
              "    </tr>\n",
              "    <tr>\n",
              "      <th>Haryana</th>\n",
              "      <td>108</td>\n",
              "      <td>1427</td>\n",
              "      <td>259</td>\n",
              "      <td>52</td>\n",
              "      <td>126</td>\n",
              "      <td>860</td>\n",
              "      <td>463</td>\n",
              "      <td>257</td>\n",
              "      <td>543</td>\n",
              "      <td>248</td>\n",
              "    </tr>\n",
              "    <tr>\n",
              "      <th>Himachal Pradesh</th>\n",
              "      <td>179</td>\n",
              "      <td>726</td>\n",
              "      <td>67</td>\n",
              "      <td>0</td>\n",
              "      <td>54</td>\n",
              "      <td>530</td>\n",
              "      <td>214</td>\n",
              "      <td>37</td>\n",
              "      <td>236</td>\n",
              "      <td>345</td>\n",
              "    </tr>\n",
              "    <tr>\n",
              "      <th>Jammu and Kashmir</th>\n",
              "      <td>12</td>\n",
              "      <td>562</td>\n",
              "      <td>42</td>\n",
              "      <td>24</td>\n",
              "      <td>7</td>\n",
              "      <td>307</td>\n",
              "      <td>196</td>\n",
              "      <td>44</td>\n",
              "      <td>233</td>\n",
              "      <td>115</td>\n",
              "    </tr>\n",
              "    <tr>\n",
              "      <th>Jharkhand</th>\n",
              "      <td>0</td>\n",
              "      <td>575</td>\n",
              "      <td>16</td>\n",
              "      <td>0</td>\n",
              "      <td>0</td>\n",
              "      <td>304</td>\n",
              "      <td>247</td>\n",
              "      <td>0</td>\n",
              "      <td>124</td>\n",
              "      <td>0</td>\n",
              "    </tr>\n",
              "    <tr>\n",
              "      <th>Karnataka</th>\n",
              "      <td>1096</td>\n",
              "      <td>5295</td>\n",
              "      <td>615</td>\n",
              "      <td>598</td>\n",
              "      <td>1470</td>\n",
              "      <td>2776</td>\n",
              "      <td>1763</td>\n",
              "      <td>605</td>\n",
              "      <td>3135</td>\n",
              "      <td>2588</td>\n",
              "    </tr>\n",
              "    <tr>\n",
              "      <th>Kerala</th>\n",
              "      <td>3</td>\n",
              "      <td>819</td>\n",
              "      <td>236</td>\n",
              "      <td>437</td>\n",
              "      <td>536</td>\n",
              "      <td>13</td>\n",
              "      <td>636</td>\n",
              "      <td>12</td>\n",
              "      <td>168</td>\n",
              "      <td>863</td>\n",
              "    </tr>\n",
              "    <tr>\n",
              "      <th>Madhya Pradesh</th>\n",
              "      <td>962</td>\n",
              "      <td>5115</td>\n",
              "      <td>826</td>\n",
              "      <td>659</td>\n",
              "      <td>768</td>\n",
              "      <td>3993</td>\n",
              "      <td>2738</td>\n",
              "      <td>922</td>\n",
              "      <td>3281</td>\n",
              "      <td>2739</td>\n",
              "    </tr>\n",
              "    <tr>\n",
              "      <th>Maharashtra</th>\n",
              "      <td>477</td>\n",
              "      <td>4009</td>\n",
              "      <td>458</td>\n",
              "      <td>83</td>\n",
              "      <td>868</td>\n",
              "      <td>2326</td>\n",
              "      <td>56</td>\n",
              "      <td>465</td>\n",
              "      <td>3189</td>\n",
              "      <td>0</td>\n",
              "    </tr>\n",
              "    <tr>\n",
              "      <th>Manipur</th>\n",
              "      <td>31</td>\n",
              "      <td>151</td>\n",
              "      <td>40</td>\n",
              "      <td>228</td>\n",
              "      <td>4</td>\n",
              "      <td>160</td>\n",
              "      <td>347</td>\n",
              "      <td>12</td>\n",
              "      <td>49</td>\n",
              "      <td>226</td>\n",
              "    </tr>\n",
              "    <tr>\n",
              "      <th>Meghalaya</th>\n",
              "      <td>113</td>\n",
              "      <td>606</td>\n",
              "      <td>182</td>\n",
              "      <td>162</td>\n",
              "      <td>143</td>\n",
              "      <td>314</td>\n",
              "      <td>399</td>\n",
              "      <td>177</td>\n",
              "      <td>329</td>\n",
              "      <td>442</td>\n",
              "    </tr>\n",
              "    <tr>\n",
              "      <th>Mizoram</th>\n",
              "      <td>42</td>\n",
              "      <td>230</td>\n",
              "      <td>123</td>\n",
              "      <td>0</td>\n",
              "      <td>15</td>\n",
              "      <td>213</td>\n",
              "      <td>96</td>\n",
              "      <td>64</td>\n",
              "      <td>143</td>\n",
              "      <td>0</td>\n",
              "    </tr>\n",
              "    <tr>\n",
              "      <th>Nagaland</th>\n",
              "      <td>211</td>\n",
              "      <td>1054</td>\n",
              "      <td>160</td>\n",
              "      <td>0</td>\n",
              "      <td>144</td>\n",
              "      <td>873</td>\n",
              "      <td>302</td>\n",
              "      <td>197</td>\n",
              "      <td>718</td>\n",
              "      <td>131</td>\n",
              "    </tr>\n",
              "    <tr>\n",
              "      <th>Odisha</th>\n",
              "      <td>629</td>\n",
              "      <td>3871</td>\n",
              "      <td>607</td>\n",
              "      <td>0</td>\n",
              "      <td>1156</td>\n",
              "      <td>1760</td>\n",
              "      <td>909</td>\n",
              "      <td>284</td>\n",
              "      <td>2335</td>\n",
              "      <td>912</td>\n",
              "    </tr>\n",
              "    <tr>\n",
              "      <th>Puducherry</th>\n",
              "      <td>0</td>\n",
              "      <td>198</td>\n",
              "      <td>30</td>\n",
              "      <td>73</td>\n",
              "      <td>98</td>\n",
              "      <td>101</td>\n",
              "      <td>84</td>\n",
              "      <td>33</td>\n",
              "      <td>51</td>\n",
              "      <td>89</td>\n",
              "    </tr>\n",
              "    <tr>\n",
              "      <th>Punjab</th>\n",
              "      <td>104</td>\n",
              "      <td>1123</td>\n",
              "      <td>216</td>\n",
              "      <td>0</td>\n",
              "      <td>75</td>\n",
              "      <td>728</td>\n",
              "      <td>0</td>\n",
              "      <td>186</td>\n",
              "      <td>496</td>\n",
              "      <td>0</td>\n",
              "    </tr>\n",
              "    <tr>\n",
              "      <th>Rajasthan</th>\n",
              "      <td>871</td>\n",
              "      <td>2634</td>\n",
              "      <td>518</td>\n",
              "      <td>257</td>\n",
              "      <td>444</td>\n",
              "      <td>2174</td>\n",
              "      <td>1048</td>\n",
              "      <td>672</td>\n",
              "      <td>1713</td>\n",
              "      <td>1256</td>\n",
              "    </tr>\n",
              "    <tr>\n",
              "      <th>Sikkim</th>\n",
              "      <td>72</td>\n",
              "      <td>391</td>\n",
              "      <td>0</td>\n",
              "      <td>8</td>\n",
              "      <td>0</td>\n",
              "      <td>136</td>\n",
              "      <td>8</td>\n",
              "      <td>0</td>\n",
              "      <td>91</td>\n",
              "      <td>0</td>\n",
              "    </tr>\n",
              "    <tr>\n",
              "      <th>Tamil Nadu</th>\n",
              "      <td>479</td>\n",
              "      <td>2680</td>\n",
              "      <td>623</td>\n",
              "      <td>992</td>\n",
              "      <td>1076</td>\n",
              "      <td>1466</td>\n",
              "      <td>1827</td>\n",
              "      <td>556</td>\n",
              "      <td>1235</td>\n",
              "      <td>1442</td>\n",
              "    </tr>\n",
              "    <tr>\n",
              "      <th>Telangana</th>\n",
              "      <td>259</td>\n",
              "      <td>1365</td>\n",
              "      <td>250</td>\n",
              "      <td>201</td>\n",
              "      <td>338</td>\n",
              "      <td>882</td>\n",
              "      <td>416</td>\n",
              "      <td>191</td>\n",
              "      <td>774</td>\n",
              "      <td>576</td>\n",
              "    </tr>\n",
              "    <tr>\n",
              "      <th>Tripura</th>\n",
              "      <td>0</td>\n",
              "      <td>240</td>\n",
              "      <td>80</td>\n",
              "      <td>0</td>\n",
              "      <td>119</td>\n",
              "      <td>469</td>\n",
              "      <td>20</td>\n",
              "      <td>220</td>\n",
              "      <td>144</td>\n",
              "      <td>0</td>\n",
              "    </tr>\n",
              "    <tr>\n",
              "      <th>Uttar Pradesh</th>\n",
              "      <td>1112</td>\n",
              "      <td>9719</td>\n",
              "      <td>1741</td>\n",
              "      <td>269</td>\n",
              "      <td>958</td>\n",
              "      <td>6549</td>\n",
              "      <td>3734</td>\n",
              "      <td>724</td>\n",
              "      <td>4028</td>\n",
              "      <td>2529</td>\n",
              "    </tr>\n",
              "    <tr>\n",
              "      <th>Uttarakhand</th>\n",
              "      <td>360</td>\n",
              "      <td>1423</td>\n",
              "      <td>127</td>\n",
              "      <td>0</td>\n",
              "      <td>76</td>\n",
              "      <td>1236</td>\n",
              "      <td>511</td>\n",
              "      <td>1</td>\n",
              "      <td>626</td>\n",
              "      <td>407</td>\n",
              "    </tr>\n",
              "    <tr>\n",
              "      <th>West Bengal</th>\n",
              "      <td>254</td>\n",
              "      <td>2217</td>\n",
              "      <td>356</td>\n",
              "      <td>0</td>\n",
              "      <td>730</td>\n",
              "      <td>1633</td>\n",
              "      <td>619</td>\n",
              "      <td>710</td>\n",
              "      <td>1542</td>\n",
              "      <td>692</td>\n",
              "    </tr>\n",
              "  </tbody>\n",
              "</table>\n",
              "</div>\n",
              "      <button class=\"colab-df-convert\" onclick=\"convertToInteractive('df-1da80157-2529-4689-a8e0-18a0d5571c88')\"\n",
              "              title=\"Convert this dataframe to an interactive table.\"\n",
              "              style=\"display:none;\">\n",
              "        \n",
              "  <svg xmlns=\"http://www.w3.org/2000/svg\" height=\"24px\"viewBox=\"0 0 24 24\"\n",
              "       width=\"24px\">\n",
              "    <path d=\"M0 0h24v24H0V0z\" fill=\"none\"/>\n",
              "    <path d=\"M18.56 5.44l.94 2.06.94-2.06 2.06-.94-2.06-.94-.94-2.06-.94 2.06-2.06.94zm-11 1L8.5 8.5l.94-2.06 2.06-.94-2.06-.94L8.5 2.5l-.94 2.06-2.06.94zm10 10l.94 2.06.94-2.06 2.06-.94-2.06-.94-.94-2.06-.94 2.06-2.06.94z\"/><path d=\"M17.41 7.96l-1.37-1.37c-.4-.4-.92-.59-1.43-.59-.52 0-1.04.2-1.43.59L10.3 9.45l-7.72 7.72c-.78.78-.78 2.05 0 2.83L4 21.41c.39.39.9.59 1.41.59.51 0 1.02-.2 1.41-.59l7.78-7.78 2.81-2.81c.8-.78.8-2.07 0-2.86zM5.41 20L4 18.59l7.72-7.72 1.47 1.35L5.41 20z\"/>\n",
              "  </svg>\n",
              "      </button>\n",
              "      \n",
              "  <style>\n",
              "    .colab-df-container {\n",
              "      display:flex;\n",
              "      flex-wrap:wrap;\n",
              "      gap: 12px;\n",
              "    }\n",
              "\n",
              "    .colab-df-convert {\n",
              "      background-color: #E8F0FE;\n",
              "      border: none;\n",
              "      border-radius: 50%;\n",
              "      cursor: pointer;\n",
              "      display: none;\n",
              "      fill: #1967D2;\n",
              "      height: 32px;\n",
              "      padding: 0 0 0 0;\n",
              "      width: 32px;\n",
              "    }\n",
              "\n",
              "    .colab-df-convert:hover {\n",
              "      background-color: #E2EBFA;\n",
              "      box-shadow: 0px 1px 2px rgba(60, 64, 67, 0.3), 0px 1px 3px 1px rgba(60, 64, 67, 0.15);\n",
              "      fill: #174EA6;\n",
              "    }\n",
              "\n",
              "    [theme=dark] .colab-df-convert {\n",
              "      background-color: #3B4455;\n",
              "      fill: #D2E3FC;\n",
              "    }\n",
              "\n",
              "    [theme=dark] .colab-df-convert:hover {\n",
              "      background-color: #434B5C;\n",
              "      box-shadow: 0px 1px 3px 1px rgba(0, 0, 0, 0.15);\n",
              "      filter: drop-shadow(0px 1px 2px rgba(0, 0, 0, 0.3));\n",
              "      fill: #FFFFFF;\n",
              "    }\n",
              "  </style>\n",
              "\n",
              "      <script>\n",
              "        const buttonEl =\n",
              "          document.querySelector('#df-1da80157-2529-4689-a8e0-18a0d5571c88 button.colab-df-convert');\n",
              "        buttonEl.style.display =\n",
              "          google.colab.kernel.accessAllowed ? 'block' : 'none';\n",
              "\n",
              "        async function convertToInteractive(key) {\n",
              "          const element = document.querySelector('#df-1da80157-2529-4689-a8e0-18a0d5571c88');\n",
              "          const dataTable =\n",
              "            await google.colab.kernel.invokeFunction('convertToInteractive',\n",
              "                                                     [key], {});\n",
              "          if (!dataTable) return;\n",
              "\n",
              "          const docLinkHtml = 'Like what you see? Visit the ' +\n",
              "            '<a target=\"_blank\" href=https://colab.research.google.com/notebooks/data_table.ipynb>data table notebook</a>'\n",
              "            + ' to learn more about interactive tables.';\n",
              "          element.innerHTML = '';\n",
              "          dataTable['output_type'] = 'display_data';\n",
              "          await google.colab.output.renderOutput(dataTable, element);\n",
              "          const docLink = document.createElement('div');\n",
              "          docLink.innerHTML = docLinkHtml;\n",
              "          element.appendChild(docLink);\n",
              "        }\n",
              "      </script>\n",
              "    </div>\n",
              "  </div>\n",
              "  "
            ]
          },
          "metadata": {},
          "execution_count": 104
        }
      ],
      "source": [
        "df_2 = pd.crosstab(data_explore['State_Name'], data_explore['cat_crop'])\n",
        "df_2"
      ]
    },
    {
      "cell_type": "markdown",
      "metadata": {
        "id": "JHNK_YepEvM-"
      },
      "source": [
        "* **Uttar Pradesh** is topping in producing more crop categories than any other Indian state."
      ]
    },
    {
      "cell_type": "code",
      "execution_count": 105,
      "metadata": {
        "colab": {
          "base_uri": "https://localhost:8080/"
        },
        "id": "gUw6ZRlgEpGX",
        "outputId": "7387ff24-bf35-4294-acce-280b4eef893c"
      },
      "outputs": [
        {
          "output_type": "execute_result",
          "data": {
            "text/plain": [
              "Rice                 15082\n",
              "Maize                13787\n",
              "Moong(Green Gram)    10106\n",
              "Urad                  9710\n",
              "Sesamum               8821\n",
              "Name: Crop, dtype: int64"
            ]
          },
          "metadata": {},
          "execution_count": 105
        }
      ],
      "source": [
        "data_explore[\"Crop\"].value_counts()[:5]"
      ]
    },
    {
      "cell_type": "markdown",
      "metadata": {
        "id": "szDT4xdLFCU8"
      },
      "source": [
        "* High Frequency Crop in the dataset"
      ]
    },
    {
      "cell_type": "code",
      "execution_count": 106,
      "metadata": {
        "colab": {
          "base_uri": "https://localhost:8080/",
          "height": 162
        },
        "id": "CVCmIQuKFROY",
        "outputId": "1e60964c-47cc-4c92-a053-22e327267d7c"
      },
      "outputs": [
        {
          "output_type": "stream",
          "name": "stdout",
          "text": [
            "(15082, 9)\n"
          ]
        },
        {
          "output_type": "execute_result",
          "data": {
            "text/plain": [
              "                     State_Name District_Name  Crop_Year       Season  Crop  \\\n",
              "2   Andaman and Nicobar Islands      NICOBARS       2000  Kharif       Rice   \n",
              "12  Andaman and Nicobar Islands      NICOBARS       2001  Kharif       Rice   \n",
              "18  Andaman and Nicobar Islands      NICOBARS       2002  Kharif       Rice   \n",
              "\n",
              "     Area  Production       Zones cat_crop  \n",
              "2   102.0      321.00  Union Terr   Cereal  \n",
              "12   83.0      300.00  Union Terr   Cereal  \n",
              "18  189.2      510.84  Union Terr   Cereal  "
            ],
            "text/html": [
              "\n",
              "  <div id=\"df-8c3f8299-fcee-4ce9-abe4-4ce1e7500954\">\n",
              "    <div class=\"colab-df-container\">\n",
              "      <div>\n",
              "<style scoped>\n",
              "    .dataframe tbody tr th:only-of-type {\n",
              "        vertical-align: middle;\n",
              "    }\n",
              "\n",
              "    .dataframe tbody tr th {\n",
              "        vertical-align: top;\n",
              "    }\n",
              "\n",
              "    .dataframe thead th {\n",
              "        text-align: right;\n",
              "    }\n",
              "</style>\n",
              "<table border=\"1\" class=\"dataframe\">\n",
              "  <thead>\n",
              "    <tr style=\"text-align: right;\">\n",
              "      <th></th>\n",
              "      <th>State_Name</th>\n",
              "      <th>District_Name</th>\n",
              "      <th>Crop_Year</th>\n",
              "      <th>Season</th>\n",
              "      <th>Crop</th>\n",
              "      <th>Area</th>\n",
              "      <th>Production</th>\n",
              "      <th>Zones</th>\n",
              "      <th>cat_crop</th>\n",
              "    </tr>\n",
              "  </thead>\n",
              "  <tbody>\n",
              "    <tr>\n",
              "      <th>2</th>\n",
              "      <td>Andaman and Nicobar Islands</td>\n",
              "      <td>NICOBARS</td>\n",
              "      <td>2000</td>\n",
              "      <td>Kharif</td>\n",
              "      <td>Rice</td>\n",
              "      <td>102.0</td>\n",
              "      <td>321.00</td>\n",
              "      <td>Union Terr</td>\n",
              "      <td>Cereal</td>\n",
              "    </tr>\n",
              "    <tr>\n",
              "      <th>12</th>\n",
              "      <td>Andaman and Nicobar Islands</td>\n",
              "      <td>NICOBARS</td>\n",
              "      <td>2001</td>\n",
              "      <td>Kharif</td>\n",
              "      <td>Rice</td>\n",
              "      <td>83.0</td>\n",
              "      <td>300.00</td>\n",
              "      <td>Union Terr</td>\n",
              "      <td>Cereal</td>\n",
              "    </tr>\n",
              "    <tr>\n",
              "      <th>18</th>\n",
              "      <td>Andaman and Nicobar Islands</td>\n",
              "      <td>NICOBARS</td>\n",
              "      <td>2002</td>\n",
              "      <td>Kharif</td>\n",
              "      <td>Rice</td>\n",
              "      <td>189.2</td>\n",
              "      <td>510.84</td>\n",
              "      <td>Union Terr</td>\n",
              "      <td>Cereal</td>\n",
              "    </tr>\n",
              "  </tbody>\n",
              "</table>\n",
              "</div>\n",
              "      <button class=\"colab-df-convert\" onclick=\"convertToInteractive('df-8c3f8299-fcee-4ce9-abe4-4ce1e7500954')\"\n",
              "              title=\"Convert this dataframe to an interactive table.\"\n",
              "              style=\"display:none;\">\n",
              "        \n",
              "  <svg xmlns=\"http://www.w3.org/2000/svg\" height=\"24px\"viewBox=\"0 0 24 24\"\n",
              "       width=\"24px\">\n",
              "    <path d=\"M0 0h24v24H0V0z\" fill=\"none\"/>\n",
              "    <path d=\"M18.56 5.44l.94 2.06.94-2.06 2.06-.94-2.06-.94-.94-2.06-.94 2.06-2.06.94zm-11 1L8.5 8.5l.94-2.06 2.06-.94-2.06-.94L8.5 2.5l-.94 2.06-2.06.94zm10 10l.94 2.06.94-2.06 2.06-.94-2.06-.94-.94-2.06-.94 2.06-2.06.94z\"/><path d=\"M17.41 7.96l-1.37-1.37c-.4-.4-.92-.59-1.43-.59-.52 0-1.04.2-1.43.59L10.3 9.45l-7.72 7.72c-.78.78-.78 2.05 0 2.83L4 21.41c.39.39.9.59 1.41.59.51 0 1.02-.2 1.41-.59l7.78-7.78 2.81-2.81c.8-.78.8-2.07 0-2.86zM5.41 20L4 18.59l7.72-7.72 1.47 1.35L5.41 20z\"/>\n",
              "  </svg>\n",
              "      </button>\n",
              "      \n",
              "  <style>\n",
              "    .colab-df-container {\n",
              "      display:flex;\n",
              "      flex-wrap:wrap;\n",
              "      gap: 12px;\n",
              "    }\n",
              "\n",
              "    .colab-df-convert {\n",
              "      background-color: #E8F0FE;\n",
              "      border: none;\n",
              "      border-radius: 50%;\n",
              "      cursor: pointer;\n",
              "      display: none;\n",
              "      fill: #1967D2;\n",
              "      height: 32px;\n",
              "      padding: 0 0 0 0;\n",
              "      width: 32px;\n",
              "    }\n",
              "\n",
              "    .colab-df-convert:hover {\n",
              "      background-color: #E2EBFA;\n",
              "      box-shadow: 0px 1px 2px rgba(60, 64, 67, 0.3), 0px 1px 3px 1px rgba(60, 64, 67, 0.15);\n",
              "      fill: #174EA6;\n",
              "    }\n",
              "\n",
              "    [theme=dark] .colab-df-convert {\n",
              "      background-color: #3B4455;\n",
              "      fill: #D2E3FC;\n",
              "    }\n",
              "\n",
              "    [theme=dark] .colab-df-convert:hover {\n",
              "      background-color: #434B5C;\n",
              "      box-shadow: 0px 1px 3px 1px rgba(0, 0, 0, 0.15);\n",
              "      filter: drop-shadow(0px 1px 2px rgba(0, 0, 0, 0.3));\n",
              "      fill: #FFFFFF;\n",
              "    }\n",
              "  </style>\n",
              "\n",
              "      <script>\n",
              "        const buttonEl =\n",
              "          document.querySelector('#df-8c3f8299-fcee-4ce9-abe4-4ce1e7500954 button.colab-df-convert');\n",
              "        buttonEl.style.display =\n",
              "          google.colab.kernel.accessAllowed ? 'block' : 'none';\n",
              "\n",
              "        async function convertToInteractive(key) {\n",
              "          const element = document.querySelector('#df-8c3f8299-fcee-4ce9-abe4-4ce1e7500954');\n",
              "          const dataTable =\n",
              "            await google.colab.kernel.invokeFunction('convertToInteractive',\n",
              "                                                     [key], {});\n",
              "          if (!dataTable) return;\n",
              "\n",
              "          const docLinkHtml = 'Like what you see? Visit the ' +\n",
              "            '<a target=\"_blank\" href=https://colab.research.google.com/notebooks/data_table.ipynb>data table notebook</a>'\n",
              "            + ' to learn more about interactive tables.';\n",
              "          element.innerHTML = '';\n",
              "          dataTable['output_type'] = 'display_data';\n",
              "          await google.colab.output.renderOutput(dataTable, element);\n",
              "          const docLink = document.createElement('div');\n",
              "          docLink.innerHTML = docLinkHtml;\n",
              "          element.appendChild(docLink);\n",
              "        }\n",
              "      </script>\n",
              "    </div>\n",
              "  </div>\n",
              "  "
            ]
          },
          "metadata": {},
          "execution_count": 106
        }
      ],
      "source": [
        "rice_df = data_explore[data_explore[\"Crop\"]==\"Rice\"]\n",
        "print(rice_df.shape)\n",
        "rice_df[:3]"
      ]
    },
    {
      "cell_type": "code",
      "execution_count": 108,
      "metadata": {
        "id": "2MqJN4RcFNkd",
        "colab": {
          "base_uri": "https://localhost:8080/",
          "height": 449
        },
        "outputId": "0079163d-dec2-4b10-f49e-0ba32599dd77"
      },
      "outputs": [
        {
          "output_type": "display_data",
          "data": {
            "text/plain": [
              "<Figure size 640x480 with 1 Axes>"
            ],
            "image/png": "[encoded data removed]"
          },
          "metadata": {}
        }
      ],
      "source": [
        "sns.barplot(x =\"Season\",y = \"Production\",data=rice_df);"
      ]
    }
  ],
  "metadata": {
    "colab": {
      "provenance": []
    },
    "kernelspec": {
      "display_name": "Python 3",
      "name": "python3"
    },
    "language_info": {
      "name": "python"
    }
  },
  "nbformat": 4,
  "nbformat_minor": 0
}